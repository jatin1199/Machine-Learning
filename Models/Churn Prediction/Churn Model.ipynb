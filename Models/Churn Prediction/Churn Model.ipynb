{
  "nbformat": 4,
  "nbformat_minor": 0,
  "metadata": {
    "kernelspec": {
      "display_name": "Python 3",
      "language": "python",
      "name": "python3"
    },
    "language_info": {
      "codemirror_mode": {
        "name": "ipython",
        "version": 3
      },
      "file_extension": ".py",
      "mimetype": "text/x-python",
      "name": "python",
      "nbconvert_exporter": "python",
      "pygments_lexer": "ipython3",
      "version": "3.7.3"
    },
    "colab": {
      "name": "ML Major verzeo july ML063B15.ipynb",
      "provenance": [],
      "collapsed_sections": []
    }
  },
  "cells": [
    {
      "cell_type": "code",
      "metadata": {
        "id": "wojZeUxezcMA",
        "colab": {
          "base_uri": "https://localhost:8080/",
          "height": 72
        },
        "outputId": "3e9ae750-a09c-4df9-c330-ad60b83a53b9"
      },
      "source": [
        "import pandas as pd\n",
        "import numpy as np\n",
        "import matplotlib.pyplot as plt\n",
        "import seaborn as sns"
      ],
      "execution_count": null,
      "outputs": [
        {
          "output_type": "stream",
          "text": [
            "/usr/local/lib/python3.6/dist-packages/statsmodels/tools/_testing.py:19: FutureWarning: pandas.util.testing is deprecated. Use the functions in the public API at pandas.testing instead.\n",
            "  import pandas.util.testing as tm\n"
          ],
          "name": "stderr"
        }
      ]
    },
    {
      "cell_type": "code",
      "metadata": {
        "id": "Gzmhz9wQzcMF",
        "colab": {
          "base_uri": "https://localhost:8080/",
          "height": 402
        },
        "outputId": "f3a02486-5804-4c6b-f504-f097e8033df7"
      },
      "source": [
        "df=pd.read_csv('/content/drive/My Drive/Colab Notebooks/DataSets/Churn.csv',engine='python')\n",
        "df"
      ],
      "execution_count": null,
      "outputs": [
        {
          "output_type": "execute_result",
          "data": {
            "text/html": [
              "<div>\n",
              "<style scoped>\n",
              "    .dataframe tbody tr th:only-of-type {\n",
              "        vertical-align: middle;\n",
              "    }\n",
              "\n",
              "    .dataframe tbody tr th {\n",
              "        vertical-align: top;\n",
              "    }\n",
              "\n",
              "    .dataframe thead th {\n",
              "        text-align: right;\n",
              "    }\n",
              "</style>\n",
              "<table border=\"1\" class=\"dataframe\">\n",
              "  <thead>\n",
              "    <tr style=\"text-align: right;\">\n",
              "      <th></th>\n",
              "      <th>RowNumber</th>\n",
              "      <th>CustomerId</th>\n",
              "      <th>Surname</th>\n",
              "      <th>CreditScore</th>\n",
              "      <th>Geography</th>\n",
              "      <th>Gender</th>\n",
              "      <th>Age</th>\n",
              "      <th>Tenure</th>\n",
              "      <th>Balance</th>\n",
              "      <th>NumOfProducts</th>\n",
              "      <th>HasCrCard</th>\n",
              "      <th>IsActiveMember</th>\n",
              "      <th>EstimatedSalary</th>\n",
              "      <th>Exited</th>\n",
              "    </tr>\n",
              "  </thead>\n",
              "  <tbody>\n",
              "    <tr>\n",
              "      <th>0</th>\n",
              "      <td>1</td>\n",
              "      <td>15634602</td>\n",
              "      <td>Hargrave</td>\n",
              "      <td>619</td>\n",
              "      <td>France</td>\n",
              "      <td>Female</td>\n",
              "      <td>42</td>\n",
              "      <td>2</td>\n",
              "      <td>0.00</td>\n",
              "      <td>1</td>\n",
              "      <td>1</td>\n",
              "      <td>1</td>\n",
              "      <td>101348.88</td>\n",
              "      <td>1</td>\n",
              "    </tr>\n",
              "    <tr>\n",
              "      <th>1</th>\n",
              "      <td>2</td>\n",
              "      <td>15647311</td>\n",
              "      <td>Hill</td>\n",
              "      <td>608</td>\n",
              "      <td>Spain</td>\n",
              "      <td>Female</td>\n",
              "      <td>41</td>\n",
              "      <td>1</td>\n",
              "      <td>83807.86</td>\n",
              "      <td>1</td>\n",
              "      <td>0</td>\n",
              "      <td>1</td>\n",
              "      <td>112542.58</td>\n",
              "      <td>0</td>\n",
              "    </tr>\n",
              "    <tr>\n",
              "      <th>2</th>\n",
              "      <td>3</td>\n",
              "      <td>15619304</td>\n",
              "      <td>Onio</td>\n",
              "      <td>502</td>\n",
              "      <td>France</td>\n",
              "      <td>Female</td>\n",
              "      <td>42</td>\n",
              "      <td>8</td>\n",
              "      <td>159660.80</td>\n",
              "      <td>3</td>\n",
              "      <td>1</td>\n",
              "      <td>0</td>\n",
              "      <td>113931.57</td>\n",
              "      <td>1</td>\n",
              "    </tr>\n",
              "    <tr>\n",
              "      <th>3</th>\n",
              "      <td>4</td>\n",
              "      <td>15701354</td>\n",
              "      <td>Boni</td>\n",
              "      <td>699</td>\n",
              "      <td>France</td>\n",
              "      <td>Female</td>\n",
              "      <td>39</td>\n",
              "      <td>1</td>\n",
              "      <td>0.00</td>\n",
              "      <td>2</td>\n",
              "      <td>0</td>\n",
              "      <td>0</td>\n",
              "      <td>93826.63</td>\n",
              "      <td>0</td>\n",
              "    </tr>\n",
              "    <tr>\n",
              "      <th>4</th>\n",
              "      <td>5</td>\n",
              "      <td>15737888</td>\n",
              "      <td>Mitchell</td>\n",
              "      <td>850</td>\n",
              "      <td>Spain</td>\n",
              "      <td>Female</td>\n",
              "      <td>43</td>\n",
              "      <td>2</td>\n",
              "      <td>125510.82</td>\n",
              "      <td>1</td>\n",
              "      <td>1</td>\n",
              "      <td>1</td>\n",
              "      <td>79084.10</td>\n",
              "      <td>0</td>\n",
              "    </tr>\n",
              "    <tr>\n",
              "      <th>...</th>\n",
              "      <td>...</td>\n",
              "      <td>...</td>\n",
              "      <td>...</td>\n",
              "      <td>...</td>\n",
              "      <td>...</td>\n",
              "      <td>...</td>\n",
              "      <td>...</td>\n",
              "      <td>...</td>\n",
              "      <td>...</td>\n",
              "      <td>...</td>\n",
              "      <td>...</td>\n",
              "      <td>...</td>\n",
              "      <td>...</td>\n",
              "      <td>...</td>\n",
              "    </tr>\n",
              "    <tr>\n",
              "      <th>9995</th>\n",
              "      <td>9996</td>\n",
              "      <td>15606229</td>\n",
              "      <td>Obijiaku</td>\n",
              "      <td>771</td>\n",
              "      <td>France</td>\n",
              "      <td>Male</td>\n",
              "      <td>39</td>\n",
              "      <td>5</td>\n",
              "      <td>0.00</td>\n",
              "      <td>2</td>\n",
              "      <td>1</td>\n",
              "      <td>0</td>\n",
              "      <td>96270.64</td>\n",
              "      <td>0</td>\n",
              "    </tr>\n",
              "    <tr>\n",
              "      <th>9996</th>\n",
              "      <td>9997</td>\n",
              "      <td>15569892</td>\n",
              "      <td>Johnstone</td>\n",
              "      <td>516</td>\n",
              "      <td>France</td>\n",
              "      <td>Male</td>\n",
              "      <td>35</td>\n",
              "      <td>10</td>\n",
              "      <td>57369.61</td>\n",
              "      <td>1</td>\n",
              "      <td>1</td>\n",
              "      <td>1</td>\n",
              "      <td>101699.77</td>\n",
              "      <td>0</td>\n",
              "    </tr>\n",
              "    <tr>\n",
              "      <th>9997</th>\n",
              "      <td>9998</td>\n",
              "      <td>15584532</td>\n",
              "      <td>Liu</td>\n",
              "      <td>709</td>\n",
              "      <td>France</td>\n",
              "      <td>Female</td>\n",
              "      <td>36</td>\n",
              "      <td>7</td>\n",
              "      <td>0.00</td>\n",
              "      <td>1</td>\n",
              "      <td>0</td>\n",
              "      <td>1</td>\n",
              "      <td>42085.58</td>\n",
              "      <td>1</td>\n",
              "    </tr>\n",
              "    <tr>\n",
              "      <th>9998</th>\n",
              "      <td>9999</td>\n",
              "      <td>15682355</td>\n",
              "      <td>Sabbatini</td>\n",
              "      <td>772</td>\n",
              "      <td>Germany</td>\n",
              "      <td>Male</td>\n",
              "      <td>42</td>\n",
              "      <td>3</td>\n",
              "      <td>75075.31</td>\n",
              "      <td>2</td>\n",
              "      <td>1</td>\n",
              "      <td>0</td>\n",
              "      <td>92888.52</td>\n",
              "      <td>1</td>\n",
              "    </tr>\n",
              "    <tr>\n",
              "      <th>9999</th>\n",
              "      <td>10000</td>\n",
              "      <td>15628319</td>\n",
              "      <td>Walker</td>\n",
              "      <td>792</td>\n",
              "      <td>France</td>\n",
              "      <td>Female</td>\n",
              "      <td>28</td>\n",
              "      <td>4</td>\n",
              "      <td>130142.79</td>\n",
              "      <td>1</td>\n",
              "      <td>1</td>\n",
              "      <td>0</td>\n",
              "      <td>38190.78</td>\n",
              "      <td>0</td>\n",
              "    </tr>\n",
              "  </tbody>\n",
              "</table>\n",
              "<p>10000 rows × 14 columns</p>\n",
              "</div>"
            ],
            "text/plain": [
              "      RowNumber  CustomerId    Surname  ...  IsActiveMember EstimatedSalary Exited\n",
              "0             1    15634602   Hargrave  ...               1       101348.88      1\n",
              "1             2    15647311       Hill  ...               1       112542.58      0\n",
              "2             3    15619304       Onio  ...               0       113931.57      1\n",
              "3             4    15701354       Boni  ...               0        93826.63      0\n",
              "4             5    15737888   Mitchell  ...               1        79084.10      0\n",
              "...         ...         ...        ...  ...             ...             ...    ...\n",
              "9995       9996    15606229   Obijiaku  ...               0        96270.64      0\n",
              "9996       9997    15569892  Johnstone  ...               1       101699.77      0\n",
              "9997       9998    15584532        Liu  ...               1        42085.58      1\n",
              "9998       9999    15682355  Sabbatini  ...               0        92888.52      1\n",
              "9999      10000    15628319     Walker  ...               0        38190.78      0\n",
              "\n",
              "[10000 rows x 14 columns]"
            ]
          },
          "metadata": {
            "tags": []
          },
          "execution_count": 3
        }
      ]
    },
    {
      "cell_type": "markdown",
      "metadata": {
        "id": "AuqYAV9CzcMJ"
      },
      "source": [
        "# Questions on dataset"
      ]
    },
    {
      "cell_type": "markdown",
      "metadata": {
        "id": "SbDhqUNIzcMK"
      },
      "source": [
        "### Q1 Which Gender has highest Churn Ratio?\n"
      ]
    },
    {
      "cell_type": "code",
      "metadata": {
        "id": "XlYGvQXRzcMK",
        "colab": {
          "base_uri": "https://localhost:8080/",
          "height": 34
        },
        "outputId": "90989b41-3cfc-47a2-907e-dd5b9c20f0e2"
      },
      "source": [
        "gender_exit={'Male':0,'Female':0}\n",
        "for i in range(0,10000):\n",
        "    gender=df.loc[i,'Gender']\n",
        "    if df.loc[i,'Exited']==1:\n",
        "        count=int(gender_exit[gender])\n",
        "        gender_exit[gender]=count+1\n",
        "gender_exit"
      ],
      "execution_count": null,
      "outputs": [
        {
          "output_type": "execute_result",
          "data": {
            "text/plain": [
              "{'Female': 1139, 'Male': 898}"
            ]
          },
          "metadata": {
            "tags": []
          },
          "execution_count": 4
        }
      ]
    },
    {
      "cell_type": "markdown",
      "metadata": {
        "id": "sqetJvEhzcMN"
      },
      "source": [
        "### Q2  Which Origins People Exited the organisation Most?"
      ]
    },
    {
      "cell_type": "code",
      "metadata": {
        "id": "VIk9MwoFzcMO",
        "colab": {
          "base_uri": "https://localhost:8080/",
          "height": 34
        },
        "outputId": "56b714bd-e0de-4c7c-bc13-0789a023dd73"
      },
      "source": [
        "Country_exit={'France':0,'Spain':0,'Germany':0}\n",
        "for i in range(0,10000):\n",
        "    origin=df.loc[i,'Geography']\n",
        "    if df.loc[i,'Exited']==1:\n",
        "        count=int(Country_exit[origin])\n",
        "        Country_exit[origin]=count+1\n",
        "Country_exit"
      ],
      "execution_count": null,
      "outputs": [
        {
          "output_type": "execute_result",
          "data": {
            "text/plain": [
              "{'France': 810, 'Germany': 814, 'Spain': 413}"
            ]
          },
          "metadata": {
            "tags": []
          },
          "execution_count": 5
        }
      ]
    },
    {
      "cell_type": "markdown",
      "metadata": {
        "id": "podXaZwRzcMQ"
      },
      "source": [
        "### Q3 Gender Wise Churn from each Country?"
      ]
    },
    {
      "cell_type": "code",
      "metadata": {
        "id": "Fy5m2tfqzcMR",
        "colab": {
          "base_uri": "https://localhost:8080/",
          "height": 70
        },
        "outputId": "ea30dd0f-b1de-48f6-bba9-b0064d449f0f"
      },
      "source": [
        "Spain_exit={'Male':0,'Female':0}\n",
        "France_exit={'Male':0,'Female':0}\n",
        "Germany_exit={'Male':0,'Female':0}\n",
        "for i in range(0,10000):\n",
        "    country=df.loc[i,'Geography']\n",
        "    gender=df.loc[i,'Gender']\n",
        "    if df.loc[i,'Exited']==1:\n",
        "        if country=='Spain':\n",
        "            count=int(Spain_exit[gender])\n",
        "            Spain_exit[gender]=count+1\n",
        "        elif country=='France':\n",
        "            count=int(France_exit[gender])\n",
        "            France_exit[gender]=count+1\n",
        "        elif country=='Germany':\n",
        "            count=int(Germany_exit[gender])\n",
        "            Germany_exit[gender]=count+1\n",
        "print(\"Spain\",Spain_exit,\"\\nFrance\",France_exit,\"\\nGermany\",Germany_exit)"
      ],
      "execution_count": null,
      "outputs": [
        {
          "output_type": "stream",
          "text": [
            "Spain {'Male': 182, 'Female': 231} \n",
            "France {'Male': 350, 'Female': 460} \n",
            "Germany {'Male': 366, 'Female': 448}\n"
          ],
          "name": "stdout"
        }
      ]
    },
    {
      "cell_type": "markdown",
      "metadata": {
        "id": "RwzrtG2dzcMT"
      },
      "source": [
        "### Q4 If Persons with Highest and Lowest Salaries are still the part of Organisation or not?"
      ]
    },
    {
      "cell_type": "code",
      "metadata": {
        "id": "O4A9qwzBzcMU"
      },
      "source": [
        "df2=df.sort_values(by='EstimatedSalary',ascending=False)"
      ],
      "execution_count": null,
      "outputs": []
    },
    {
      "cell_type": "code",
      "metadata": {
        "id": "7X0a7PDIzcMX",
        "colab": {
          "base_uri": "https://localhost:8080/",
          "height": 136
        },
        "outputId": "87819d3f-c3cc-4176-f874-b878f6526fe7"
      },
      "source": [
        "df2.head(3)"
      ],
      "execution_count": null,
      "outputs": [
        {
          "output_type": "execute_result",
          "data": {
            "text/html": [
              "<div>\n",
              "<style scoped>\n",
              "    .dataframe tbody tr th:only-of-type {\n",
              "        vertical-align: middle;\n",
              "    }\n",
              "\n",
              "    .dataframe tbody tr th {\n",
              "        vertical-align: top;\n",
              "    }\n",
              "\n",
              "    .dataframe thead th {\n",
              "        text-align: right;\n",
              "    }\n",
              "</style>\n",
              "<table border=\"1\" class=\"dataframe\">\n",
              "  <thead>\n",
              "    <tr style=\"text-align: right;\">\n",
              "      <th></th>\n",
              "      <th>RowNumber</th>\n",
              "      <th>CustomerId</th>\n",
              "      <th>Surname</th>\n",
              "      <th>CreditScore</th>\n",
              "      <th>Geography</th>\n",
              "      <th>Gender</th>\n",
              "      <th>Age</th>\n",
              "      <th>Tenure</th>\n",
              "      <th>Balance</th>\n",
              "      <th>NumOfProducts</th>\n",
              "      <th>HasCrCard</th>\n",
              "      <th>IsActiveMember</th>\n",
              "      <th>EstimatedSalary</th>\n",
              "      <th>Exited</th>\n",
              "    </tr>\n",
              "  </thead>\n",
              "  <tbody>\n",
              "    <tr>\n",
              "      <th>6646</th>\n",
              "      <td>6647</td>\n",
              "      <td>15662021</td>\n",
              "      <td>Lucciano</td>\n",
              "      <td>685</td>\n",
              "      <td>Spain</td>\n",
              "      <td>Female</td>\n",
              "      <td>42</td>\n",
              "      <td>2</td>\n",
              "      <td>0.00</td>\n",
              "      <td>2</td>\n",
              "      <td>0</td>\n",
              "      <td>0</td>\n",
              "      <td>199992.48</td>\n",
              "      <td>0</td>\n",
              "    </tr>\n",
              "    <tr>\n",
              "      <th>3580</th>\n",
              "      <td>3581</td>\n",
              "      <td>15634359</td>\n",
              "      <td>Dyer</td>\n",
              "      <td>639</td>\n",
              "      <td>Germany</td>\n",
              "      <td>Female</td>\n",
              "      <td>41</td>\n",
              "      <td>5</td>\n",
              "      <td>98635.77</td>\n",
              "      <td>1</td>\n",
              "      <td>1</td>\n",
              "      <td>0</td>\n",
              "      <td>199970.74</td>\n",
              "      <td>0</td>\n",
              "    </tr>\n",
              "    <tr>\n",
              "      <th>4417</th>\n",
              "      <td>4418</td>\n",
              "      <td>15697270</td>\n",
              "      <td>Gannon</td>\n",
              "      <td>608</td>\n",
              "      <td>Spain</td>\n",
              "      <td>Male</td>\n",
              "      <td>27</td>\n",
              "      <td>4</td>\n",
              "      <td>153325.10</td>\n",
              "      <td>1</td>\n",
              "      <td>1</td>\n",
              "      <td>1</td>\n",
              "      <td>199953.33</td>\n",
              "      <td>0</td>\n",
              "    </tr>\n",
              "  </tbody>\n",
              "</table>\n",
              "</div>"
            ],
            "text/plain": [
              "      RowNumber  CustomerId   Surname  ...  IsActiveMember EstimatedSalary Exited\n",
              "6646       6647    15662021  Lucciano  ...               0       199992.48      0\n",
              "3580       3581    15634359      Dyer  ...               0       199970.74      0\n",
              "4417       4418    15697270    Gannon  ...               1       199953.33      0\n",
              "\n",
              "[3 rows x 14 columns]"
            ]
          },
          "metadata": {
            "tags": []
          },
          "execution_count": 8
        }
      ]
    },
    {
      "cell_type": "code",
      "metadata": {
        "id": "MMpGBhEfzcMa",
        "colab": {
          "base_uri": "https://localhost:8080/",
          "height": 136
        },
        "outputId": "4628538c-0aeb-4ea3-c265-745a2ceaca11"
      },
      "source": [
        "df2.tail(3)"
      ],
      "execution_count": null,
      "outputs": [
        {
          "output_type": "execute_result",
          "data": {
            "text/html": [
              "<div>\n",
              "<style scoped>\n",
              "    .dataframe tbody tr th:only-of-type {\n",
              "        vertical-align: middle;\n",
              "    }\n",
              "\n",
              "    .dataframe tbody tr th {\n",
              "        vertical-align: top;\n",
              "    }\n",
              "\n",
              "    .dataframe thead th {\n",
              "        text-align: right;\n",
              "    }\n",
              "</style>\n",
              "<table border=\"1\" class=\"dataframe\">\n",
              "  <thead>\n",
              "    <tr style=\"text-align: right;\">\n",
              "      <th></th>\n",
              "      <th>RowNumber</th>\n",
              "      <th>CustomerId</th>\n",
              "      <th>Surname</th>\n",
              "      <th>CreditScore</th>\n",
              "      <th>Geography</th>\n",
              "      <th>Gender</th>\n",
              "      <th>Age</th>\n",
              "      <th>Tenure</th>\n",
              "      <th>Balance</th>\n",
              "      <th>NumOfProducts</th>\n",
              "      <th>HasCrCard</th>\n",
              "      <th>IsActiveMember</th>\n",
              "      <th>EstimatedSalary</th>\n",
              "      <th>Exited</th>\n",
              "    </tr>\n",
              "  </thead>\n",
              "  <tbody>\n",
              "    <tr>\n",
              "      <th>9010</th>\n",
              "      <td>9011</td>\n",
              "      <td>15786463</td>\n",
              "      <td>Hsing</td>\n",
              "      <td>645</td>\n",
              "      <td>Germany</td>\n",
              "      <td>Female</td>\n",
              "      <td>59</td>\n",
              "      <td>8</td>\n",
              "      <td>121669.93</td>\n",
              "      <td>2</td>\n",
              "      <td>0</td>\n",
              "      <td>0</td>\n",
              "      <td>91.75</td>\n",
              "      <td>1</td>\n",
              "    </tr>\n",
              "    <tr>\n",
              "      <th>9647</th>\n",
              "      <td>9648</td>\n",
              "      <td>15679693</td>\n",
              "      <td>Walker</td>\n",
              "      <td>625</td>\n",
              "      <td>France</td>\n",
              "      <td>Male</td>\n",
              "      <td>31</td>\n",
              "      <td>5</td>\n",
              "      <td>0.00</td>\n",
              "      <td>2</td>\n",
              "      <td>0</td>\n",
              "      <td>1</td>\n",
              "      <td>90.07</td>\n",
              "      <td>0</td>\n",
              "    </tr>\n",
              "    <tr>\n",
              "      <th>2362</th>\n",
              "      <td>2363</td>\n",
              "      <td>15791053</td>\n",
              "      <td>Lucciano</td>\n",
              "      <td>709</td>\n",
              "      <td>Germany</td>\n",
              "      <td>Male</td>\n",
              "      <td>45</td>\n",
              "      <td>4</td>\n",
              "      <td>122917.71</td>\n",
              "      <td>1</td>\n",
              "      <td>1</td>\n",
              "      <td>1</td>\n",
              "      <td>11.58</td>\n",
              "      <td>1</td>\n",
              "    </tr>\n",
              "  </tbody>\n",
              "</table>\n",
              "</div>"
            ],
            "text/plain": [
              "      RowNumber  CustomerId   Surname  ...  IsActiveMember EstimatedSalary Exited\n",
              "9010       9011    15786463     Hsing  ...               0           91.75      1\n",
              "9647       9648    15679693    Walker  ...               1           90.07      0\n",
              "2362       2363    15791053  Lucciano  ...               1           11.58      1\n",
              "\n",
              "[3 rows x 14 columns]"
            ]
          },
          "metadata": {
            "tags": []
          },
          "execution_count": 9
        }
      ]
    },
    {
      "cell_type": "markdown",
      "metadata": {
        "id": "Rku7kCSjzcMc"
      },
      "source": [
        "### Q5 Average Credit Score of persons Exiting the Organisation"
      ]
    },
    {
      "cell_type": "code",
      "metadata": {
        "id": "5xWn4dopzcMc",
        "colab": {
          "base_uri": "https://localhost:8080/",
          "height": 34
        },
        "outputId": "78eae0e8-7470-43c2-e1a9-258ddfcc4fdd"
      },
      "source": [
        "credit_score=0\n",
        "count=0\n",
        "for i in range(0,10000):\n",
        "    if df.loc[i,'Exited']==1:\n",
        "        count=count+1\n",
        "        credit_score=credit_score+df.loc[i,'CreditScore']\n",
        "print(\"Average Credit Score:\",credit_score/count)"
      ],
      "execution_count": null,
      "outputs": [
        {
          "output_type": "stream",
          "text": [
            "Average Credit Score: 645.3514972999509\n"
          ],
          "name": "stdout"
        }
      ]
    },
    {
      "cell_type": "markdown",
      "metadata": {
        "id": "Md_VdbphzcMf"
      },
      "source": [
        "# Data Preprocessing"
      ]
    },
    {
      "cell_type": "markdown",
      "metadata": {
        "id": "Dy1AO_hDzcMf"
      },
      "source": [
        "### Data Cleaning(Feature Selection) "
      ]
    },
    {
      "cell_type": "code",
      "metadata": {
        "id": "IMafc-UjzcMg",
        "colab": {
          "base_uri": "https://localhost:8080/",
          "height": 281
        },
        "outputId": "67dc45cc-d9db-49c5-ae31-43a5604e6f2b"
      },
      "source": [
        "df.isnull().sum()"
      ],
      "execution_count": null,
      "outputs": [
        {
          "output_type": "execute_result",
          "data": {
            "text/plain": [
              "RowNumber          0\n",
              "CustomerId         0\n",
              "Surname            0\n",
              "CreditScore        0\n",
              "Geography          0\n",
              "Gender             0\n",
              "Age                0\n",
              "Tenure             0\n",
              "Balance            0\n",
              "NumOfProducts      0\n",
              "HasCrCard          0\n",
              "IsActiveMember     0\n",
              "EstimatedSalary    0\n",
              "Exited             0\n",
              "dtype: int64"
            ]
          },
          "metadata": {
            "tags": []
          },
          "execution_count": 11
        }
      ]
    },
    {
      "cell_type": "code",
      "metadata": {
        "id": "x_VUD4BTzcMj"
      },
      "source": [
        "df=df.drop(columns=['RowNumber','CustomerId','Surname'])"
      ],
      "execution_count": null,
      "outputs": []
    },
    {
      "cell_type": "code",
      "metadata": {
        "id": "haZNQHxhzcMl",
        "colab": {
          "base_uri": "https://localhost:8080/",
          "height": 34
        },
        "outputId": "d2aa999b-dd7c-4ab9-a3ce-01d3d2f55ddb"
      },
      "source": [
        "col=list(df.columns)\n",
        "len(col)"
      ],
      "execution_count": null,
      "outputs": [
        {
          "output_type": "execute_result",
          "data": {
            "text/plain": [
              "11"
            ]
          },
          "metadata": {
            "tags": []
          },
          "execution_count": 13
        }
      ]
    },
    {
      "cell_type": "code",
      "metadata": {
        "id": "hpy3UUK6zcMn",
        "colab": {
          "base_uri": "https://localhost:8080/",
          "height": 1000
        },
        "outputId": "e4177a0b-c496-44e8-f681-8e59339d866e"
      },
      "source": [
        "for i in col:\n",
        "    print(df[i].value_counts())"
      ],
      "execution_count": null,
      "outputs": [
        {
          "output_type": "stream",
          "text": [
            "850    233\n",
            "678     63\n",
            "655     54\n",
            "705     53\n",
            "667     53\n",
            "      ... \n",
            "419      1\n",
            "417      1\n",
            "373      1\n",
            "365      1\n",
            "401      1\n",
            "Name: CreditScore, Length: 460, dtype: int64\n",
            "France     5014\n",
            "Germany    2509\n",
            "Spain      2477\n",
            "Name: Geography, dtype: int64\n",
            "Male      5457\n",
            "Female    4543\n",
            "Name: Gender, dtype: int64\n",
            "37    478\n",
            "38    477\n",
            "35    474\n",
            "36    456\n",
            "34    447\n",
            "     ... \n",
            "92      2\n",
            "88      1\n",
            "82      1\n",
            "85      1\n",
            "83      1\n",
            "Name: Age, Length: 70, dtype: int64\n",
            "2     1048\n",
            "1     1035\n",
            "7     1028\n",
            "8     1025\n",
            "5     1012\n",
            "3     1009\n",
            "4      989\n",
            "9      984\n",
            "6      967\n",
            "10     490\n",
            "0      413\n",
            "Name: Tenure, dtype: int64\n",
            "0.00         3617\n",
            "105473.74       2\n",
            "130170.82       2\n",
            "113063.83       1\n",
            "80242.37        1\n",
            "             ... \n",
            "183555.24       1\n",
            "137648.41       1\n",
            "112689.95       1\n",
            "115465.28       1\n",
            "74681.90        1\n",
            "Name: Balance, Length: 6382, dtype: int64\n",
            "1    5084\n",
            "2    4590\n",
            "3     266\n",
            "4      60\n",
            "Name: NumOfProducts, dtype: int64\n",
            "1    7055\n",
            "0    2945\n",
            "Name: HasCrCard, dtype: int64\n",
            "1    5151\n",
            "0    4849\n",
            "Name: IsActiveMember, dtype: int64\n",
            "24924.92     2\n",
            "109029.72    1\n",
            "182025.95    1\n",
            "82820.85     1\n",
            "30314.04     1\n",
            "            ..\n",
            "158302.59    1\n",
            "171037.63    1\n",
            "43036.60     1\n",
            "55034.02     1\n",
            "104181.78    1\n",
            "Name: EstimatedSalary, Length: 9999, dtype: int64\n",
            "0    7963\n",
            "1    2037\n",
            "Name: Exited, dtype: int64\n"
          ],
          "name": "stdout"
        }
      ]
    },
    {
      "cell_type": "code",
      "metadata": {
        "id": "3V1qDgSSzcMq",
        "colab": {
          "base_uri": "https://localhost:8080/",
          "height": 34
        },
        "outputId": "e6722fbd-5910-4c54-94c9-5eea7b177a9d"
      },
      "source": [
        "var_col=df.select_dtypes(include=['O']).columns\n",
        "var_col"
      ],
      "execution_count": null,
      "outputs": [
        {
          "output_type": "execute_result",
          "data": {
            "text/plain": [
              "Index(['Geography', 'Gender'], dtype='object')"
            ]
          },
          "metadata": {
            "tags": []
          },
          "execution_count": 15
        }
      ]
    },
    {
      "cell_type": "markdown",
      "metadata": {
        "id": "qIqWXJWTzcMt"
      },
      "source": [
        "### Data Encoding"
      ]
    },
    {
      "cell_type": "code",
      "metadata": {
        "id": "V-rQBkDrzcMt",
        "colab": {
          "base_uri": "https://localhost:8080/",
          "height": 422
        },
        "outputId": "79f49443-44e7-45f3-e973-f5583117f039"
      },
      "source": [
        "df_dummy=pd.get_dummies(df)\n",
        "df_dummy"
      ],
      "execution_count": null,
      "outputs": [
        {
          "output_type": "execute_result",
          "data": {
            "text/html": [
              "<div>\n",
              "<style scoped>\n",
              "    .dataframe tbody tr th:only-of-type {\n",
              "        vertical-align: middle;\n",
              "    }\n",
              "\n",
              "    .dataframe tbody tr th {\n",
              "        vertical-align: top;\n",
              "    }\n",
              "\n",
              "    .dataframe thead th {\n",
              "        text-align: right;\n",
              "    }\n",
              "</style>\n",
              "<table border=\"1\" class=\"dataframe\">\n",
              "  <thead>\n",
              "    <tr style=\"text-align: right;\">\n",
              "      <th></th>\n",
              "      <th>CreditScore</th>\n",
              "      <th>Age</th>\n",
              "      <th>Tenure</th>\n",
              "      <th>Balance</th>\n",
              "      <th>NumOfProducts</th>\n",
              "      <th>HasCrCard</th>\n",
              "      <th>IsActiveMember</th>\n",
              "      <th>EstimatedSalary</th>\n",
              "      <th>Exited</th>\n",
              "      <th>Geography_France</th>\n",
              "      <th>Geography_Germany</th>\n",
              "      <th>Geography_Spain</th>\n",
              "      <th>Gender_Female</th>\n",
              "      <th>Gender_Male</th>\n",
              "    </tr>\n",
              "  </thead>\n",
              "  <tbody>\n",
              "    <tr>\n",
              "      <th>0</th>\n",
              "      <td>619</td>\n",
              "      <td>42</td>\n",
              "      <td>2</td>\n",
              "      <td>0.00</td>\n",
              "      <td>1</td>\n",
              "      <td>1</td>\n",
              "      <td>1</td>\n",
              "      <td>101348.88</td>\n",
              "      <td>1</td>\n",
              "      <td>1</td>\n",
              "      <td>0</td>\n",
              "      <td>0</td>\n",
              "      <td>1</td>\n",
              "      <td>0</td>\n",
              "    </tr>\n",
              "    <tr>\n",
              "      <th>1</th>\n",
              "      <td>608</td>\n",
              "      <td>41</td>\n",
              "      <td>1</td>\n",
              "      <td>83807.86</td>\n",
              "      <td>1</td>\n",
              "      <td>0</td>\n",
              "      <td>1</td>\n",
              "      <td>112542.58</td>\n",
              "      <td>0</td>\n",
              "      <td>0</td>\n",
              "      <td>0</td>\n",
              "      <td>1</td>\n",
              "      <td>1</td>\n",
              "      <td>0</td>\n",
              "    </tr>\n",
              "    <tr>\n",
              "      <th>2</th>\n",
              "      <td>502</td>\n",
              "      <td>42</td>\n",
              "      <td>8</td>\n",
              "      <td>159660.80</td>\n",
              "      <td>3</td>\n",
              "      <td>1</td>\n",
              "      <td>0</td>\n",
              "      <td>113931.57</td>\n",
              "      <td>1</td>\n",
              "      <td>1</td>\n",
              "      <td>0</td>\n",
              "      <td>0</td>\n",
              "      <td>1</td>\n",
              "      <td>0</td>\n",
              "    </tr>\n",
              "    <tr>\n",
              "      <th>3</th>\n",
              "      <td>699</td>\n",
              "      <td>39</td>\n",
              "      <td>1</td>\n",
              "      <td>0.00</td>\n",
              "      <td>2</td>\n",
              "      <td>0</td>\n",
              "      <td>0</td>\n",
              "      <td>93826.63</td>\n",
              "      <td>0</td>\n",
              "      <td>1</td>\n",
              "      <td>0</td>\n",
              "      <td>0</td>\n",
              "      <td>1</td>\n",
              "      <td>0</td>\n",
              "    </tr>\n",
              "    <tr>\n",
              "      <th>4</th>\n",
              "      <td>850</td>\n",
              "      <td>43</td>\n",
              "      <td>2</td>\n",
              "      <td>125510.82</td>\n",
              "      <td>1</td>\n",
              "      <td>1</td>\n",
              "      <td>1</td>\n",
              "      <td>79084.10</td>\n",
              "      <td>0</td>\n",
              "      <td>0</td>\n",
              "      <td>0</td>\n",
              "      <td>1</td>\n",
              "      <td>1</td>\n",
              "      <td>0</td>\n",
              "    </tr>\n",
              "    <tr>\n",
              "      <th>...</th>\n",
              "      <td>...</td>\n",
              "      <td>...</td>\n",
              "      <td>...</td>\n",
              "      <td>...</td>\n",
              "      <td>...</td>\n",
              "      <td>...</td>\n",
              "      <td>...</td>\n",
              "      <td>...</td>\n",
              "      <td>...</td>\n",
              "      <td>...</td>\n",
              "      <td>...</td>\n",
              "      <td>...</td>\n",
              "      <td>...</td>\n",
              "      <td>...</td>\n",
              "    </tr>\n",
              "    <tr>\n",
              "      <th>9995</th>\n",
              "      <td>771</td>\n",
              "      <td>39</td>\n",
              "      <td>5</td>\n",
              "      <td>0.00</td>\n",
              "      <td>2</td>\n",
              "      <td>1</td>\n",
              "      <td>0</td>\n",
              "      <td>96270.64</td>\n",
              "      <td>0</td>\n",
              "      <td>1</td>\n",
              "      <td>0</td>\n",
              "      <td>0</td>\n",
              "      <td>0</td>\n",
              "      <td>1</td>\n",
              "    </tr>\n",
              "    <tr>\n",
              "      <th>9996</th>\n",
              "      <td>516</td>\n",
              "      <td>35</td>\n",
              "      <td>10</td>\n",
              "      <td>57369.61</td>\n",
              "      <td>1</td>\n",
              "      <td>1</td>\n",
              "      <td>1</td>\n",
              "      <td>101699.77</td>\n",
              "      <td>0</td>\n",
              "      <td>1</td>\n",
              "      <td>0</td>\n",
              "      <td>0</td>\n",
              "      <td>0</td>\n",
              "      <td>1</td>\n",
              "    </tr>\n",
              "    <tr>\n",
              "      <th>9997</th>\n",
              "      <td>709</td>\n",
              "      <td>36</td>\n",
              "      <td>7</td>\n",
              "      <td>0.00</td>\n",
              "      <td>1</td>\n",
              "      <td>0</td>\n",
              "      <td>1</td>\n",
              "      <td>42085.58</td>\n",
              "      <td>1</td>\n",
              "      <td>1</td>\n",
              "      <td>0</td>\n",
              "      <td>0</td>\n",
              "      <td>1</td>\n",
              "      <td>0</td>\n",
              "    </tr>\n",
              "    <tr>\n",
              "      <th>9998</th>\n",
              "      <td>772</td>\n",
              "      <td>42</td>\n",
              "      <td>3</td>\n",
              "      <td>75075.31</td>\n",
              "      <td>2</td>\n",
              "      <td>1</td>\n",
              "      <td>0</td>\n",
              "      <td>92888.52</td>\n",
              "      <td>1</td>\n",
              "      <td>0</td>\n",
              "      <td>1</td>\n",
              "      <td>0</td>\n",
              "      <td>0</td>\n",
              "      <td>1</td>\n",
              "    </tr>\n",
              "    <tr>\n",
              "      <th>9999</th>\n",
              "      <td>792</td>\n",
              "      <td>28</td>\n",
              "      <td>4</td>\n",
              "      <td>130142.79</td>\n",
              "      <td>1</td>\n",
              "      <td>1</td>\n",
              "      <td>0</td>\n",
              "      <td>38190.78</td>\n",
              "      <td>0</td>\n",
              "      <td>1</td>\n",
              "      <td>0</td>\n",
              "      <td>0</td>\n",
              "      <td>1</td>\n",
              "      <td>0</td>\n",
              "    </tr>\n",
              "  </tbody>\n",
              "</table>\n",
              "<p>10000 rows × 14 columns</p>\n",
              "</div>"
            ],
            "text/plain": [
              "      CreditScore  Age  Tenure  ...  Geography_Spain  Gender_Female  Gender_Male\n",
              "0             619   42       2  ...                0              1            0\n",
              "1             608   41       1  ...                1              1            0\n",
              "2             502   42       8  ...                0              1            0\n",
              "3             699   39       1  ...                0              1            0\n",
              "4             850   43       2  ...                1              1            0\n",
              "...           ...  ...     ...  ...              ...            ...          ...\n",
              "9995          771   39       5  ...                0              0            1\n",
              "9996          516   35      10  ...                0              0            1\n",
              "9997          709   36       7  ...                0              1            0\n",
              "9998          772   42       3  ...                0              0            1\n",
              "9999          792   28       4  ...                0              1            0\n",
              "\n",
              "[10000 rows x 14 columns]"
            ]
          },
          "metadata": {
            "tags": []
          },
          "execution_count": 16
        }
      ]
    },
    {
      "cell_type": "code",
      "metadata": {
        "id": "VjJYwjjzzcMv",
        "colab": {
          "base_uri": "https://localhost:8080/",
          "height": 52
        },
        "outputId": "454c33d7-97d4-4f9d-d57d-3f0003df2c45"
      },
      "source": [
        "x=df_dummy.drop(columns=['Exited'])\n",
        "y=df_dummy['Exited']\n",
        "print(x.shape)\n",
        "print(y.shape)"
      ],
      "execution_count": null,
      "outputs": [
        {
          "output_type": "stream",
          "text": [
            "(10000, 13)\n",
            "(10000,)\n"
          ],
          "name": "stdout"
        }
      ]
    },
    {
      "cell_type": "markdown",
      "metadata": {
        "id": "0ahnXZcazcMy"
      },
      "source": [
        "###  Train Test Spliting"
      ]
    },
    {
      "cell_type": "code",
      "metadata": {
        "id": "HN6mpgKVzcMy",
        "colab": {
          "base_uri": "https://localhost:8080/",
          "height": 87
        },
        "outputId": "e6901f9b-e983-49bf-c1ba-4133d300a7c1"
      },
      "source": [
        "from sklearn.model_selection import train_test_split\n",
        "x_train,x_test,y_train,y_test=train_test_split(x,y,test_size=0.25,random_state=11)\n",
        "print(x_train.shape)\n",
        "print(x_test.shape)\n",
        "print(y_train.shape)\n",
        "print(y_test.shape)"
      ],
      "execution_count": null,
      "outputs": [
        {
          "output_type": "stream",
          "text": [
            "(7500, 13)\n",
            "(2500, 13)\n",
            "(7500,)\n",
            "(2500,)\n"
          ],
          "name": "stdout"
        }
      ]
    },
    {
      "cell_type": "markdown",
      "metadata": {
        "id": "qumr4a-9zcM0"
      },
      "source": [
        "### Standardization"
      ]
    },
    {
      "cell_type": "code",
      "metadata": {
        "id": "3O4Gxev9zcM0",
        "colab": {
          "base_uri": "https://localhost:8080/",
          "height": 246
        },
        "outputId": "0549d295-72d8-47c6-8d5f-49b6cd19b10c"
      },
      "source": [
        "from sklearn.preprocessing import StandardScaler\n",
        "sc=StandardScaler()\n",
        "sc.fit(x_train)\n",
        "x_train_sc=sc.transform(x_train)\n",
        "x_test_sc=sc.transform(x_test)\n",
        "print(x_train_sc)"
      ],
      "execution_count": null,
      "outputs": [
        {
          "output_type": "stream",
          "text": [
            "[[-0.81163578  0.39555051 -1.05223259 ... -0.57509218 -0.91333963\n",
            "   0.91333963]\n",
            " [-1.33538837 -0.46600675  0.68328475 ...  1.73885168  1.09488296\n",
            "  -1.09488296]\n",
            " [-0.7808268  -0.84892108 -1.05223259 ...  1.73885168 -0.91333963\n",
            "   0.91333963]\n",
            " ...\n",
            " [-0.26734386 -0.65746391  0.68328475 ...  1.73885168 -0.91333963\n",
            "   0.91333963]\n",
            " [-1.4278153   0.29982192  1.37749168 ... -0.57509218 -0.91333963\n",
            "   0.91333963]\n",
            " [-1.26350076 -1.61474975 -0.01092219 ... -0.57509218 -0.91333963\n",
            "   0.91333963]]\n"
          ],
          "name": "stdout"
        }
      ]
    },
    {
      "cell_type": "markdown",
      "metadata": {
        "id": "NYXRTYB9zcM2"
      },
      "source": [
        "# Model Training"
      ]
    },
    {
      "cell_type": "markdown",
      "metadata": {
        "id": "qfI4dyIXzcM3"
      },
      "source": [
        "## Logistic Regression"
      ]
    },
    {
      "cell_type": "code",
      "metadata": {
        "id": "Dc8_Le_UzcM3",
        "colab": {
          "base_uri": "https://localhost:8080/",
          "height": 34
        },
        "outputId": "51917b3b-5bea-4cdc-c0c0-58021b17f1e8"
      },
      "source": [
        "from sklearn.linear_model import LogisticRegression\n",
        "lin_clas_sc= LogisticRegression(random_state = 0)\n",
        "lin_clas_sc.fit(x_train_sc, y_train)\n",
        "print(\"Accuracy=\",lin_clas_sc.score(x_test_sc,y_test))"
      ],
      "execution_count": null,
      "outputs": [
        {
          "output_type": "stream",
          "text": [
            "Accuracy= 0.8112\n"
          ],
          "name": "stdout"
        }
      ]
    },
    {
      "cell_type": "markdown",
      "metadata": {
        "id": "JVEe5g6UzcM5"
      },
      "source": [
        "## Support Vector Machine"
      ]
    },
    {
      "cell_type": "code",
      "metadata": {
        "id": "c3fMkeimzcM6",
        "colab": {
          "base_uri": "https://localhost:8080/",
          "height": 34
        },
        "outputId": "1d6b162f-3ef1-443c-a265-bc6da2c6097a"
      },
      "source": [
        "from sklearn.svm import SVC\n",
        "svc_clas_sc=SVC(random_state=0)\n",
        "svc_clas_sc.fit(x_train_sc,y_train)\n",
        "print(\"Accuracy=\",svc_clas_sc.score(x_test_sc,y_test))"
      ],
      "execution_count": null,
      "outputs": [
        {
          "output_type": "stream",
          "text": [
            "Accuracy= 0.85\n"
          ],
          "name": "stdout"
        }
      ]
    },
    {
      "cell_type": "markdown",
      "metadata": {
        "id": "UbzntoxSzcM8"
      },
      "source": [
        "## K-nn Classification"
      ]
    },
    {
      "cell_type": "code",
      "metadata": {
        "id": "I6AAIQCCzcM8",
        "colab": {
          "base_uri": "https://localhost:8080/",
          "height": 386
        },
        "outputId": "6956cb3f-aa9a-40c3-fcee-c5954518d9d1"
      },
      "source": [
        "from sklearn.neighbors import KNeighborsClassifier\n",
        "knn_avg=0\n",
        "for i in range(5,25):\n",
        "    knn_clas_sc=KNeighborsClassifier(n_neighbors=i)\n",
        "    knn_clas_sc.fit(x_train_sc,y_train)\n",
        "    print(i,\"=\",knn_clas_sc.score(x_test_sc,y_test))\n",
        "    knn_avg=knn_clas_sc.score(x_test_sc,y_test)+knn_avg\n",
        "print('Average=',knn_avg/20)"
      ],
      "execution_count": null,
      "outputs": [
        {
          "output_type": "stream",
          "text": [
            "5 = 0.82\n",
            "6 = 0.8212\n",
            "7 = 0.8216\n",
            "8 = 0.8276\n",
            "9 = 0.8248\n",
            "10 = 0.8272\n",
            "11 = 0.8252\n",
            "12 = 0.822\n",
            "13 = 0.8252\n",
            "14 = 0.828\n",
            "15 = 0.8268\n",
            "16 = 0.8256\n",
            "17 = 0.8252\n",
            "18 = 0.8252\n",
            "19 = 0.8256\n",
            "20 = 0.8248\n",
            "21 = 0.8256\n",
            "22 = 0.8236\n",
            "23 = 0.8244\n",
            "24 = 0.8236\n",
            "Average= 0.8246600000000001\n"
          ],
          "name": "stdout"
        }
      ]
    },
    {
      "cell_type": "markdown",
      "metadata": {
        "id": "oiOoUwmTzcM-"
      },
      "source": [
        "## Random Forest Classifcation"
      ]
    },
    {
      "cell_type": "code",
      "metadata": {
        "id": "4ax9QwKczcM_",
        "colab": {
          "base_uri": "https://localhost:8080/",
          "height": 439
        },
        "outputId": "c95d00ea-46ad-4801-c157-f18e9c015c44"
      },
      "source": [
        "from sklearn.ensemble import RandomForestClassifier\n",
        "rfost_avg=0\n",
        "for i in range(5,28):\n",
        "    rfost_clas_sc=RandomForestClassifier(n_estimators=i,random_state=0);\n",
        "    rfost_clas_sc.fit(x_train_sc,y_train)\n",
        "    print(i,\"=\",rfost_clas_sc.score(x_test_sc,y_test))\n",
        "    rfost_avg=rfost_clas_sc.score(x_test_sc,y_test)+rfost_avg\n",
        "print('Average',rfost_avg/23)"
      ],
      "execution_count": null,
      "outputs": [
        {
          "output_type": "stream",
          "text": [
            "5 = 0.832\n",
            "6 = 0.8476\n",
            "7 = 0.8392\n",
            "8 = 0.8456\n",
            "9 = 0.8484\n",
            "10 = 0.8512\n",
            "11 = 0.8508\n",
            "12 = 0.8516\n",
            "13 = 0.8488\n",
            "14 = 0.8536\n",
            "15 = 0.8548\n",
            "16 = 0.8584\n",
            "17 = 0.8568\n",
            "18 = 0.8592\n",
            "19 = 0.8584\n",
            "20 = 0.8592\n",
            "21 = 0.8588\n",
            "22 = 0.8588\n",
            "23 = 0.8596\n",
            "24 = 0.8624\n",
            "25 = 0.86\n",
            "26 = 0.86\n",
            "27 = 0.8584\n",
            "Average 0.8536347826086955\n"
          ],
          "name": "stdout"
        }
      ]
    }
  ]
}