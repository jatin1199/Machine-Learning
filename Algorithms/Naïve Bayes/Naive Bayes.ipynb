{
  "nbformat": 4,
  "nbformat_minor": 0,
  "metadata": {
    "colab": {
      "name": "101803556_Jatin_Jindal_Assignment7.ipynb",
      "provenance": [],
      "collapsed_sections": []
    },
    "kernelspec": {
      "name": "python3",
      "display_name": "Python 3"
    },
    "language_info": {
      "name": "python"
    }
  },
  "cells": [
    {
      "cell_type": "markdown",
      "metadata": {
        "id": "MmOaeTH50w8R"
      },
      "source": [
        "#Q1: Implement Multinomial Naïve Bayes classifier (in-built) for detection of messages as spam or ham?"
      ]
    },
    {
      "cell_type": "code",
      "metadata": {
        "id": "t9f3C1ECHoqp"
      },
      "source": [
        "import pandas as pd\n",
        "import numpy as np\n",
        "import matplotlib.pyplot as plt\n",
        "import os"
      ],
      "execution_count": null,
      "outputs": []
    },
    {
      "cell_type": "code",
      "metadata": {
        "colab": {
          "base_uri": "https://localhost:8080/"
        },
        "id": "kz72wVqPIX9Q",
        "outputId": "370a4014-ba16-4c07-8b63-cebfeb9b8c67"
      },
      "source": [
        "path='/content/drive/MyDrive/Colab Notebooks/ML/assignment 7/message.txt'\n",
        "with open(path) as f:\n",
        "    data=f.readlines()\n",
        "len(data)"
      ],
      "execution_count": null,
      "outputs": [
        {
          "output_type": "execute_result",
          "data": {
            "text/plain": [
              "5574"
            ]
          },
          "metadata": {
            "tags": []
          },
          "execution_count": 2
        }
      ]
    },
    {
      "cell_type": "code",
      "metadata": {
        "id": "4t4Nqba7Kj0m"
      },
      "source": [
        "import nltk\n",
        "import re\n",
        "for i in range(len(data)):\n",
        "    data[i]=re.sub('[^a-zA-Z0-9]',' ',data[i])\n",
        "    data[i]=data[i].lower()"
      ],
      "execution_count": null,
      "outputs": []
    },
    {
      "cell_type": "code",
      "metadata": {
        "colab": {
          "base_uri": "https://localhost:8080/",
          "height": 35
        },
        "id": "6UskelfXQRBG",
        "outputId": "ca00dbf6-4eb8-40b1-ea99-ebf776e90274"
      },
      "source": [
        "data[0]"
      ],
      "execution_count": null,
      "outputs": [
        {
          "output_type": "execute_result",
          "data": {
            "application/vnd.google.colaboratory.intrinsic+json": {
              "type": "string"
            },
            "text/plain": [
              "'ham go until jurong point  crazy   available only in bugis n great world la e buffet    cine there got amore wat    '"
            ]
          },
          "metadata": {
            "tags": []
          },
          "execution_count": 4
        }
      ]
    },
    {
      "cell_type": "code",
      "metadata": {
        "colab": {
          "base_uri": "https://localhost:8080/"
        },
        "id": "drmDHfxYLGPW",
        "outputId": "67978710-8107-41f4-e709-6eab1fc6a359"
      },
      "source": [
        "from nltk.stem import PorterStemmer\n",
        "nltk.download('stopwords')\n",
        "nltk.download('punkt')\n",
        "from nltk.corpus import stopwords\n",
        "token_word=[]\n",
        "for i in range(len(data)):\n",
        "    token_word.append(nltk.word_tokenize(data[i]))\n",
        "len(token_word)\n",
        "#token_word"
      ],
      "execution_count": null,
      "outputs": [
        {
          "output_type": "stream",
          "text": [
            "[nltk_data] Downloading package stopwords to /root/nltk_data...\n",
            "[nltk_data]   Unzipping corpora/stopwords.zip.\n",
            "[nltk_data] Downloading package punkt to /root/nltk_data...\n",
            "[nltk_data]   Unzipping tokenizers/punkt.zip.\n"
          ],
          "name": "stdout"
        },
        {
          "output_type": "execute_result",
          "data": {
            "text/plain": [
              "5574"
            ]
          },
          "metadata": {
            "tags": []
          },
          "execution_count": 5
        }
      ]
    },
    {
      "cell_type": "code",
      "metadata": {
        "colab": {
          "base_uri": "https://localhost:8080/"
        },
        "id": "vrApXkg3Ps3O",
        "outputId": "d3719588-fc0d-4262-db23-3d9d98fd62ef"
      },
      "source": [
        "x=[]\n",
        "y=[]\n",
        "for i in range(len(token_word)):\n",
        "    x.append(token_word[i][1:])\n",
        "    y.append(token_word[i][0])\n",
        "print(len(x),len(y))"
      ],
      "execution_count": null,
      "outputs": [
        {
          "output_type": "stream",
          "text": [
            "5574 5574\n"
          ],
          "name": "stdout"
        }
      ]
    },
    {
      "cell_type": "code",
      "metadata": {
        "colab": {
          "base_uri": "https://localhost:8080/"
        },
        "id": "Gn_Qvuc1RtvE",
        "outputId": "81db2138-b6a1-416e-cc87-525e738dbd8d"
      },
      "source": [
        "from nltk.stem import WordNetLemmatizer\n",
        "nltk.download('wordnet')\n",
        "words=[]\n",
        "#for i in range(len(x)):\n",
        "ps=PorterStemmer()\n",
        "let=WordNetLemmatizer()\n",
        "stp=stopwords.words(fileids='english')\n",
        "for i in range(len(x)):\n",
        "    sent=[let.lemmatize(w) for w in x[i] if w not in stp]\n",
        "    words.append(' '.join(sent))\n",
        "len(words)"
      ],
      "execution_count": null,
      "outputs": [
        {
          "output_type": "stream",
          "text": [
            "[nltk_data] Downloading package wordnet to /root/nltk_data...\n",
            "[nltk_data]   Unzipping corpora/wordnet.zip.\n"
          ],
          "name": "stdout"
        },
        {
          "output_type": "execute_result",
          "data": {
            "text/plain": [
              "5574"
            ]
          },
          "metadata": {
            "tags": []
          },
          "execution_count": 7
        }
      ]
    },
    {
      "cell_type": "code",
      "metadata": {
        "colab": {
          "base_uri": "https://localhost:8080/"
        },
        "id": "Gx5ZOsFWRxQI",
        "outputId": "392e9ede-042c-4f6f-d57d-ed8b4c93f644"
      },
      "source": [
        "from sklearn.feature_extraction.text import CountVectorizer\n",
        "cv=CountVectorizer()\n",
        "x_bow=cv.fit_transform(words).toarray()\n",
        "x_bow"
      ],
      "execution_count": null,
      "outputs": [
        {
          "output_type": "execute_result",
          "data": {
            "text/plain": [
              "array([[0, 0, 0, ..., 0, 0, 0],\n",
              "       [0, 0, 0, ..., 0, 0, 0],\n",
              "       [0, 0, 0, ..., 0, 0, 0],\n",
              "       ...,\n",
              "       [0, 0, 0, ..., 0, 0, 0],\n",
              "       [0, 0, 0, ..., 0, 0, 0],\n",
              "       [0, 0, 0, ..., 0, 0, 0]])"
            ]
          },
          "metadata": {
            "tags": []
          },
          "execution_count": 8
        }
      ]
    },
    {
      "cell_type": "code",
      "metadata": {
        "colab": {
          "base_uri": "https://localhost:8080/"
        },
        "id": "kTGtEk2sXNXn",
        "outputId": "df30a65b-d306-4527-c672-c13621bec7c5"
      },
      "source": [
        "x_bow.shape"
      ],
      "execution_count": null,
      "outputs": [
        {
          "output_type": "execute_result",
          "data": {
            "text/plain": [
              "(5574, 8046)"
            ]
          },
          "metadata": {
            "tags": []
          },
          "execution_count": 9
        }
      ]
    },
    {
      "cell_type": "code",
      "metadata": {
        "colab": {
          "base_uri": "https://localhost:8080/"
        },
        "id": "M7MgXpAZYIFL",
        "outputId": "f7ef7f24-3336-4d55-a7f9-4dbf4c64ea82"
      },
      "source": [
        "y_=np.array(y)\n",
        "y_.shape"
      ],
      "execution_count": null,
      "outputs": [
        {
          "output_type": "execute_result",
          "data": {
            "text/plain": [
              "(5574,)"
            ]
          },
          "metadata": {
            "tags": []
          },
          "execution_count": 10
        }
      ]
    },
    {
      "cell_type": "code",
      "metadata": {
        "colab": {
          "base_uri": "https://localhost:8080/"
        },
        "id": "gkV5GuFPYaxJ",
        "outputId": "8be2c58b-380f-40d7-ba25-daf5c293bd22"
      },
      "source": [
        "np.unique(y_,return_counts=True)"
      ],
      "execution_count": null,
      "outputs": [
        {
          "output_type": "execute_result",
          "data": {
            "text/plain": [
              "(array(['ham', 'spam'], dtype='<U4'), array([4827,  747]))"
            ]
          },
          "metadata": {
            "tags": []
          },
          "execution_count": 11
        }
      ]
    },
    {
      "cell_type": "code",
      "metadata": {
        "colab": {
          "base_uri": "https://localhost:8080/"
        },
        "id": "60f2A4LVESUn",
        "outputId": "74ba43ce-c4af-4267-bf97-8522754744a9"
      },
      "source": [
        "from sklearn.model_selection import train_test_split\n",
        "x_train,x_test,y_train,y_test=train_test_split(x_bow,y_,test_size=0.15)\n",
        "print(x_train.shape,y_train.shape)\n",
        "print(x_test.shape,y_test.shape)"
      ],
      "execution_count": null,
      "outputs": [
        {
          "output_type": "stream",
          "text": [
            "(4737, 8046) (4737,)\n",
            "(837, 8046) (837,)\n"
          ],
          "name": "stdout"
        }
      ]
    },
    {
      "cell_type": "code",
      "metadata": {
        "colab": {
          "base_uri": "https://localhost:8080/"
        },
        "id": "JLqNjiQnAuRa",
        "outputId": "bf437c98-16cb-4e96-fcef-186c261b1b5d"
      },
      "source": [
        "y_tr=np.zeros((y_train.shape[0]))\n",
        "print(y_tr.shape)\n",
        "for i in range(y_train.shape[0]): \n",
        "    if y_train[i]=='spam':\n",
        "        y_tr[i]=1\n",
        "print(y_tr.shape)\n",
        "\n",
        "from sklearn.naive_bayes import MultinomialNB\n",
        "nb=MultinomialNB()\n",
        "nb.fit(x_train,y_train)\n",
        "nb.score(x_test,y_test)"
      ],
      "execution_count": null,
      "outputs": [
        {
          "output_type": "stream",
          "text": [
            "(4737,)\n",
            "(4737,)\n"
          ],
          "name": "stdout"
        },
        {
          "output_type": "execute_result",
          "data": {
            "text/plain": [
              "0.977299880525687"
            ]
          },
          "metadata": {
            "tags": []
          },
          "execution_count": 13
        }
      ]
    },
    {
      "cell_type": "code",
      "metadata": {
        "colab": {
          "base_uri": "https://localhost:8080/"
        },
        "id": "evDB_f9j5_nb",
        "outputId": "71689f33-47ee-4091-d99c-f9f8ce74bf10"
      },
      "source": [
        "from sklearn.decomposition import PCA\n",
        "pca=PCA(n_components=50)\n",
        "x_bow=pca.fit_transform(x_bow)\n",
        "print(x_bow.shape)\n",
        "pca.explained_variance_ratio_"
      ],
      "execution_count": null,
      "outputs": [
        {
          "output_type": "stream",
          "text": [
            "(5574, 50)\n"
          ],
          "name": "stdout"
        },
        {
          "output_type": "execute_result",
          "data": {
            "text/plain": [
              "array([0.02915715, 0.01675639, 0.01425048, 0.01034979, 0.00965049,\n",
              "       0.00784804, 0.00716174, 0.00703686, 0.00634851, 0.00608856,\n",
              "       0.00589396, 0.0057784 , 0.00564784, 0.00541787, 0.00536031,\n",
              "       0.00525536, 0.00499184, 0.00490555, 0.004824  , 0.0047624 ,\n",
              "       0.00465855, 0.00457682, 0.00441044, 0.00431276, 0.00425185,\n",
              "       0.00407315, 0.004043  , 0.00401545, 0.0039469 , 0.00387204,\n",
              "       0.00381875, 0.00375755, 0.00369151, 0.00363681, 0.00360063,\n",
              "       0.00356522, 0.00349755, 0.00347587, 0.00337455, 0.00332744,\n",
              "       0.00329668, 0.00327568, 0.00324748, 0.00318567, 0.00314819,\n",
              "       0.00310555, 0.00308178, 0.00305976, 0.00301648, 0.00297654])"
            ]
          },
          "metadata": {
            "tags": []
          },
          "execution_count": 14
        }
      ]
    },
    {
      "cell_type": "code",
      "metadata": {
        "id": "Z8wocE1B5oKi"
      },
      "source": [
        "def prior_prob(y_train,label):  #P(A)\n",
        "    total=y_train.shape[0]\n",
        "    count=np.sum(y_train==label)\n",
        "\n",
        "    return count/total\n",
        "\n",
        "    \n",
        "def cond_prob(x_train,y_train,feature_col,feature_val,label):\n",
        "    x_filter=x_train[y_train==label]\n",
        "\n",
        "    den=x_filter.shape[0]\n",
        "    num=np.sum(x_filter[:,feature_col]==feature_val)\n",
        "\n",
        "    col=x_filter.shape[1]\n",
        "\n",
        "    #print(num,den,col)\n",
        "    return (1+num)/(den+col)\n"
      ],
      "execution_count": null,
      "outputs": []
    },
    {
      "cell_type": "code",
      "metadata": {
        "colab": {
          "base_uri": "https://localhost:8080/"
        },
        "id": "HMCJ4kbUenuD",
        "outputId": "6dcec180-8ec6-4092-b503-45bca0f3eff5"
      },
      "source": [
        "from sklearn.model_selection import train_test_split\n",
        "x_train,x_test,y_train,y_test=train_test_split(x_bow,y_,test_size=0.15)\n",
        "print(x_train.shape,y_train.shape)\n",
        "print(x_test.shape,y_test.shape)"
      ],
      "execution_count": null,
      "outputs": [
        {
          "output_type": "stream",
          "text": [
            "(4737, 50) (4737,)\n",
            "(837, 50) (837,)\n"
          ],
          "name": "stdout"
        }
      ]
    },
    {
      "cell_type": "code",
      "metadata": {
        "colab": {
          "base_uri": "https://localhost:8080/"
        },
        "id": "QMoE43Gaftlg",
        "outputId": "fee79c8e-52a7-4958-844e-1a7fbace59f9"
      },
      "source": [
        "lab=list(np.unique(y_train))\n",
        "lab"
      ],
      "execution_count": null,
      "outputs": [
        {
          "output_type": "execute_result",
          "data": {
            "text/plain": [
              "['ham', 'spam']"
            ]
          },
          "metadata": {
            "tags": []
          },
          "execution_count": 17
        }
      ]
    },
    {
      "cell_type": "code",
      "metadata": {
        "id": "LcSZE9gnbu4g"
      },
      "source": [
        "def predict(x_test,x_train,y_train):\n",
        "    output=[]\n",
        "    n_features=x_train.shape[1]\n",
        "    #print(n_features)\n",
        "    lab=list(np.unique(y_train))\n",
        "    #for row in x_test:\n",
        "    out=[]#np.zeros((len(lab)))\n",
        "    for l in range(len(lab)):\n",
        "        prob=prior_prob(y_train,lab[l])\n",
        "        #print(prob)\n",
        "        for fet in range(n_features):\n",
        "            #print(fet)\n",
        "            cond=cond_prob(x_train,y_train,fet,x_test[fet],lab[l])\n",
        "            prob*=cond\n",
        "        out.append(prob)\n",
        "        #print('out',out)\n",
        "        #output.append(out)\n",
        "    return out"
      ],
      "execution_count": null,
      "outputs": []
    },
    {
      "cell_type": "code",
      "metadata": {
        "colab": {
          "base_uri": "https://localhost:8080/"
        },
        "id": "cnIGlc2f1cXA",
        "outputId": "bc472f04-1406-4ec3-f774-291850119a8a"
      },
      "source": [
        "y_pred=[]\n",
        "n=x_test.shape[0]\n",
        "print(n)\n",
        "for i in range(n):\n",
        "    pre=predict(x_test[i],x_train,y_train)\n",
        "    y_pred.append(np.array(pre))\n",
        "len(y_pred)"
      ],
      "execution_count": null,
      "outputs": [
        {
          "output_type": "stream",
          "text": [
            "837\n"
          ],
          "name": "stdout"
        },
        {
          "output_type": "execute_result",
          "data": {
            "text/plain": [
              "837"
            ]
          },
          "metadata": {
            "tags": []
          },
          "execution_count": 19
        }
      ]
    },
    {
      "cell_type": "code",
      "metadata": {
        "id": "H0yR6JMJ2hi1"
      },
      "source": [
        "y_final=np.argmax(y_pred,axis=1)"
      ],
      "execution_count": null,
      "outputs": []
    },
    {
      "cell_type": "code",
      "metadata": {
        "colab": {
          "base_uri": "https://localhost:8080/"
        },
        "id": "UZVR78jo9bS7",
        "outputId": "17ae5e16-681a-4b58-f428-05e56f098415"
      },
      "source": [
        "len(y_final)"
      ],
      "execution_count": null,
      "outputs": [
        {
          "output_type": "execute_result",
          "data": {
            "text/plain": [
              "837"
            ]
          },
          "metadata": {
            "tags": []
          },
          "execution_count": 21
        }
      ]
    },
    {
      "cell_type": "code",
      "metadata": {
        "colab": {
          "base_uri": "https://localhost:8080/"
        },
        "id": "0tHw80G99pxf",
        "outputId": "1a566503-51b1-4b5b-8edc-70953cdbb152"
      },
      "source": [
        "y_=np.zeros(y_test.shape)\n",
        "#y_\n",
        "for i in range(y_test.shape[0]):\n",
        "    if y_test[i]=='spam':\n",
        "        y_[i]=1\n",
        "y_.shape"
      ],
      "execution_count": null,
      "outputs": [
        {
          "output_type": "execute_result",
          "data": {
            "text/plain": [
              "(837,)"
            ]
          },
          "metadata": {
            "tags": []
          },
          "execution_count": 22
        }
      ]
    },
    {
      "cell_type": "code",
      "metadata": {
        "colab": {
          "base_uri": "https://localhost:8080/"
        },
        "id": "IQAoNf4r_g2F",
        "outputId": "a285e4ad-7666-405b-ce7a-ceced1fcdfcd"
      },
      "source": [
        "acc=0\n",
        "for i in range(y_.shape[0]):\n",
        "    if y_final[i]==y_[i]:\n",
        "        acc+=1\n",
        "print(acc/y_.shape[0])"
      ],
      "execution_count": null,
      "outputs": [
        {
          "output_type": "stream",
          "text": [
            "0.15412186379928317\n"
          ],
          "name": "stdout"
        }
      ]
    },
    {
      "cell_type": "markdown",
      "metadata": {
        "id": "3p9Q4ts_JvcA"
      },
      "source": [
        "# Q2: (Gaussian Naïve Bayes Classifier) Implement Gaussian Naïve Bayes Classifier on the Iris dataset from sklearn.datasets using\n"
      ]
    },
    {
      "cell_type": "markdown",
      "metadata": {
        "id": "FS6tQDj51D98"
      },
      "source": [
        "#Q2: (i) Step-by-step implementation\n"
      ]
    },
    {
      "cell_type": "code",
      "metadata": {
        "colab": {
          "base_uri": "https://localhost:8080/"
        },
        "id": "zahq-ogzCyYH",
        "outputId": "378376b8-1228-4604-fbbb-5d1c90cb6fcf"
      },
      "source": [
        "from sklearn.datasets import load_iris\n",
        "data=load_iris()\n",
        "x=data['data']\n",
        "y=data['target']\n",
        "print(x.shape,y.shape)"
      ],
      "execution_count": null,
      "outputs": [
        {
          "output_type": "stream",
          "text": [
            "(150, 4) (150,)\n"
          ],
          "name": "stdout"
        }
      ]
    },
    {
      "cell_type": "code",
      "metadata": {
        "colab": {
          "base_uri": "https://localhost:8080/"
        },
        "id": "ohuipKZaKGZQ",
        "outputId": "eaaf528c-182e-4b10-dc91-d6230bd62434"
      },
      "source": [
        "labels=list(np.unique(y))\n",
        "print(labels)\n",
        "output=data['target_names']\n",
        "output"
      ],
      "execution_count": null,
      "outputs": [
        {
          "output_type": "stream",
          "text": [
            "[0, 1, 2]\n"
          ],
          "name": "stdout"
        },
        {
          "output_type": "execute_result",
          "data": {
            "text/plain": [
              "array(['setosa', 'versicolor', 'virginica'], dtype='<U10')"
            ]
          },
          "metadata": {
            "tags": []
          },
          "execution_count": 32
        }
      ]
    },
    {
      "cell_type": "code",
      "metadata": {
        "colab": {
          "base_uri": "https://localhost:8080/"
        },
        "id": "3zlioMuFRweY",
        "outputId": "8f675800-82a8-497b-ebfc-92de3bb933a2"
      },
      "source": [
        "import random\n",
        "x_comb=np.hstack((x,y.reshape(-1,1)))\n",
        "np.random.shuffle(x_comb)\n",
        "x_comb"
      ],
      "execution_count": null,
      "outputs": [
        {
          "output_type": "execute_result",
          "data": {
            "text/plain": [
              "array([[5.4, 3.9, 1.7, 0.4, 0. ],\n",
              "       [6.4, 2.8, 5.6, 2.1, 2. ],\n",
              "       [5.1, 3.8, 1.6, 0.2, 0. ],\n",
              "       [6.5, 3. , 5.5, 1.8, 2. ],\n",
              "       [6. , 2.2, 5. , 1.5, 2. ],\n",
              "       [4.9, 3.6, 1.4, 0.1, 0. ],\n",
              "       [5.8, 4. , 1.2, 0.2, 0. ],\n",
              "       [5.4, 3.9, 1.3, 0.4, 0. ],\n",
              "       [5.5, 2.4, 3.8, 1.1, 1. ],\n",
              "       [5.1, 3.7, 1.5, 0.4, 0. ],\n",
              "       [6.9, 3.2, 5.7, 2.3, 2. ],\n",
              "       [6.7, 3.1, 4.7, 1.5, 1. ],\n",
              "       [6.3, 2.5, 5. , 1.9, 2. ],\n",
              "       [6.7, 3. , 5.2, 2.3, 2. ],\n",
              "       [5. , 3.5, 1.3, 0.3, 0. ],\n",
              "       [6.5, 2.8, 4.6, 1.5, 1. ],\n",
              "       [4.9, 2.5, 4.5, 1.7, 2. ],\n",
              "       [5.7, 4.4, 1.5, 0.4, 0. ],\n",
              "       [6.4, 2.9, 4.3, 1.3, 1. ],\n",
              "       [4.6, 3.1, 1.5, 0.2, 0. ],\n",
              "       [5.6, 2.5, 3.9, 1.1, 1. ],\n",
              "       [7.4, 2.8, 6.1, 1.9, 2. ],\n",
              "       [7.2, 3. , 5.8, 1.6, 2. ],\n",
              "       [5.5, 2.6, 4.4, 1.2, 1. ],\n",
              "       [5.9, 3. , 4.2, 1.5, 1. ],\n",
              "       [5. , 3.3, 1.4, 0.2, 0. ],\n",
              "       [6.5, 3. , 5.8, 2.2, 2. ],\n",
              "       [6.1, 2.9, 4.7, 1.4, 1. ],\n",
              "       [5.7, 3.8, 1.7, 0.3, 0. ],\n",
              "       [5.8, 2.7, 5.1, 1.9, 2. ],\n",
              "       [6.3, 2.3, 4.4, 1.3, 1. ],\n",
              "       [6. , 3.4, 4.5, 1.6, 1. ],\n",
              "       [5.1, 3.8, 1.9, 0.4, 0. ],\n",
              "       [5.2, 2.7, 3.9, 1.4, 1. ],\n",
              "       [6.1, 2.6, 5.6, 1.4, 2. ],\n",
              "       [7. , 3.2, 4.7, 1.4, 1. ],\n",
              "       [5.9, 3. , 5.1, 1.8, 2. ],\n",
              "       [6.8, 3. , 5.5, 2.1, 2. ],\n",
              "       [6.8, 2.8, 4.8, 1.4, 1. ],\n",
              "       [5.4, 3.7, 1.5, 0.2, 0. ],\n",
              "       [6.3, 2.9, 5.6, 1.8, 2. ],\n",
              "       [4.8, 3.4, 1.6, 0.2, 0. ],\n",
              "       [5.5, 2.5, 4. , 1.3, 1. ],\n",
              "       [4.8, 3. , 1.4, 0.1, 0. ],\n",
              "       [5.1, 3.8, 1.5, 0.3, 0. ],\n",
              "       [5.2, 3.4, 1.4, 0.2, 0. ],\n",
              "       [5.1, 3.4, 1.5, 0.2, 0. ],\n",
              "       [5.7, 3. , 4.2, 1.2, 1. ],\n",
              "       [4.7, 3.2, 1.3, 0.2, 0. ],\n",
              "       [7.7, 3. , 6.1, 2.3, 2. ],\n",
              "       [6.2, 2.8, 4.8, 1.8, 2. ],\n",
              "       [5.6, 3. , 4.5, 1.5, 1. ],\n",
              "       [4.3, 3. , 1.1, 0.1, 0. ],\n",
              "       [6.9, 3.1, 4.9, 1.5, 1. ],\n",
              "       [7.2, 3.2, 6. , 1.8, 2. ],\n",
              "       [4.6, 3.2, 1.4, 0.2, 0. ],\n",
              "       [6.6, 3. , 4.4, 1.4, 1. ],\n",
              "       [6.4, 2.8, 5.6, 2.2, 2. ],\n",
              "       [6.5, 3. , 5.2, 2. , 2. ],\n",
              "       [6.4, 3.1, 5.5, 1.8, 2. ],\n",
              "       [6.9, 3.1, 5.4, 2.1, 2. ],\n",
              "       [6.1, 2.8, 4.7, 1.2, 1. ],\n",
              "       [7.2, 3.6, 6.1, 2.5, 2. ],\n",
              "       [4.9, 3.1, 1.5, 0.2, 0. ],\n",
              "       [5.8, 2.7, 3.9, 1.2, 1. ],\n",
              "       [6.1, 3. , 4.9, 1.8, 2. ],\n",
              "       [5.1, 2.5, 3. , 1.1, 1. ],\n",
              "       [5.7, 2.6, 3.5, 1. , 1. ],\n",
              "       [6.4, 3.2, 4.5, 1.5, 1. ],\n",
              "       [4.4, 3. , 1.3, 0.2, 0. ],\n",
              "       [6.2, 2.2, 4.5, 1.5, 1. ],\n",
              "       [5. , 2.3, 3.3, 1. , 1. ],\n",
              "       [5.7, 2.9, 4.2, 1.3, 1. ],\n",
              "       [5.7, 2.5, 5. , 2. , 2. ],\n",
              "       [4.9, 3.1, 1.5, 0.1, 0. ],\n",
              "       [5. , 3.5, 1.6, 0.6, 0. ],\n",
              "       [6. , 2.2, 4. , 1. , 1. ],\n",
              "       [7.7, 2.6, 6.9, 2.3, 2. ],\n",
              "       [5.7, 2.8, 4.5, 1.3, 1. ],\n",
              "       [5.5, 3.5, 1.3, 0.2, 0. ],\n",
              "       [7.7, 3.8, 6.7, 2.2, 2. ],\n",
              "       [7.6, 3. , 6.6, 2.1, 2. ],\n",
              "       [5.4, 3.4, 1.5, 0.4, 0. ],\n",
              "       [4.8, 3.4, 1.9, 0.2, 0. ],\n",
              "       [5.6, 2.8, 4.9, 2. , 2. ],\n",
              "       [5.8, 2.8, 5.1, 2.4, 2. ],\n",
              "       [6.3, 2.7, 4.9, 1.8, 2. ],\n",
              "       [5. , 3.4, 1.5, 0.2, 0. ],\n",
              "       [6.8, 3.2, 5.9, 2.3, 2. ],\n",
              "       [4.6, 3.4, 1.4, 0.3, 0. ],\n",
              "       [5.1, 3.3, 1.7, 0.5, 0. ],\n",
              "       [5.2, 4.1, 1.5, 0.1, 0. ],\n",
              "       [5.5, 2.3, 4. , 1.3, 1. ],\n",
              "       [6.4, 3.2, 5.3, 2.3, 2. ],\n",
              "       [6.3, 2.8, 5.1, 1.5, 2. ],\n",
              "       [4.8, 3.1, 1.6, 0.2, 0. ],\n",
              "       [6.2, 3.4, 5.4, 2.3, 2. ],\n",
              "       [6. , 2.7, 5.1, 1.6, 1. ],\n",
              "       [5.9, 3.2, 4.8, 1.8, 1. ],\n",
              "       [6.9, 3.1, 5.1, 2.3, 2. ],\n",
              "       [6.3, 3.4, 5.6, 2.4, 2. ],\n",
              "       [4.6, 3.6, 1. , 0.2, 0. ],\n",
              "       [5. , 3.6, 1.4, 0.2, 0. ],\n",
              "       [5.8, 2.6, 4. , 1.2, 1. ],\n",
              "       [5.7, 2.8, 4.1, 1.3, 1. ],\n",
              "       [6.1, 3. , 4.6, 1.4, 1. ],\n",
              "       [7.3, 2.9, 6.3, 1.8, 2. ],\n",
              "       [6.3, 2.5, 4.9, 1.5, 1. ],\n",
              "       [6.3, 3.3, 4.7, 1.6, 1. ],\n",
              "       [5. , 3.4, 1.6, 0.4, 0. ],\n",
              "       [5.1, 3.5, 1.4, 0.2, 0. ],\n",
              "       [5.8, 2.7, 5.1, 1.9, 2. ],\n",
              "       [5.6, 3. , 4.1, 1.3, 1. ],\n",
              "       [4.7, 3.2, 1.6, 0.2, 0. ],\n",
              "       [6.7, 3.1, 5.6, 2.4, 2. ],\n",
              "       [6. , 2.9, 4.5, 1.5, 1. ],\n",
              "       [6.6, 2.9, 4.6, 1.3, 1. ],\n",
              "       [6.7, 3.1, 4.4, 1.4, 1. ],\n",
              "       [6.4, 2.7, 5.3, 1.9, 2. ],\n",
              "       [4.9, 2.4, 3.3, 1. , 1. ],\n",
              "       [6.3, 3.3, 6. , 2.5, 2. ],\n",
              "       [5.3, 3.7, 1.5, 0.2, 0. ],\n",
              "       [5.6, 2.7, 4.2, 1.3, 1. ],\n",
              "       [6.7, 3. , 5. , 1.7, 1. ],\n",
              "       [7.7, 2.8, 6.7, 2. , 2. ],\n",
              "       [5. , 3. , 1.6, 0.2, 0. ],\n",
              "       [6. , 3. , 4.8, 1.8, 2. ],\n",
              "       [6.7, 3.3, 5.7, 2.5, 2. ],\n",
              "       [7.1, 3. , 5.9, 2.1, 2. ],\n",
              "       [5. , 3.2, 1.2, 0.2, 0. ],\n",
              "       [5. , 2. , 3.5, 1. , 1. ],\n",
              "       [4.4, 2.9, 1.4, 0.2, 0. ],\n",
              "       [6.1, 2.8, 4. , 1.3, 1. ],\n",
              "       [6.5, 3.2, 5.1, 2. , 2. ],\n",
              "       [4.9, 3. , 1.4, 0.2, 0. ],\n",
              "       [5.4, 3.4, 1.7, 0.2, 0. ],\n",
              "       [6.2, 2.9, 4.3, 1.3, 1. ],\n",
              "       [5.8, 2.7, 4.1, 1. , 1. ],\n",
              "       [4.5, 2.3, 1.3, 0.3, 0. ],\n",
              "       [5.5, 4.2, 1.4, 0.2, 0. ],\n",
              "       [5.2, 3.5, 1.5, 0.2, 0. ],\n",
              "       [5.6, 2.9, 3.6, 1.3, 1. ],\n",
              "       [7.9, 3.8, 6.4, 2. , 2. ],\n",
              "       [4.8, 3. , 1.4, 0.3, 0. ],\n",
              "       [5.4, 3. , 4.5, 1.5, 1. ],\n",
              "       [5.1, 3.5, 1.4, 0.3, 0. ],\n",
              "       [4.4, 3.2, 1.3, 0.2, 0. ],\n",
              "       [6.7, 2.5, 5.8, 1.8, 2. ],\n",
              "       [5.5, 2.4, 3.7, 1. , 1. ],\n",
              "       [6.7, 3.3, 5.7, 2.1, 2. ]])"
            ]
          },
          "metadata": {
            "tags": []
          },
          "execution_count": 60
        }
      ]
    },
    {
      "cell_type": "code",
      "metadata": {
        "colab": {
          "base_uri": "https://localhost:8080/"
        },
        "id": "d-___UTZQsxg",
        "outputId": "4631cbef-8803-46d9-bba3-d7b258ad971b"
      },
      "source": [
        "from sklearn.model_selection import train_test_split\n",
        "x_train,x_test,y_train,y_test=train_test_split(x_comb,y,test_size=0.15)\n",
        "print(x_train.shape,y_train.shape)\n",
        "print(x_test.shape,y_test.shape)"
      ],
      "execution_count": null,
      "outputs": [
        {
          "output_type": "stream",
          "text": [
            "(127, 5) (127,)\n",
            "(23, 5) (23,)\n"
          ],
          "name": "stdout"
        }
      ]
    },
    {
      "cell_type": "code",
      "metadata": {
        "colab": {
          "base_uri": "https://localhost:8080/"
        },
        "id": "tEnJ_hHXQjX9",
        "outputId": "0205201c-d718-4e1c-87f6-7394a165759a"
      },
      "source": [
        "from sklearn.preprocessing import StandardScaler\n",
        "sc=StandardScaler()\n",
        "x_sc=sc.fit_transform(x_train)\n",
        "x_test_sc=sc.transform(x_test)\n",
        "print(x_sc.shape,x_test_sc.shape)\n",
        "#x_test_sc"
      ],
      "execution_count": null,
      "outputs": [
        {
          "output_type": "stream",
          "text": [
            "(127, 5) (23, 5)\n"
          ],
          "name": "stdout"
        }
      ]
    },
    {
      "cell_type": "code",
      "metadata": {
        "id": "rtmlr7IzM5z0"
      },
      "source": [
        "# row= 0,1,2\n",
        "# col=colums of train data\n",
        "def gaussian_train(x,y):\n",
        "    labels=list(np.unique(y))\n",
        "    n_features=x.shape[1]\n",
        "    mean=np.zeros((len(labels),n_features),dtype=np.float64)\n",
        "    var=np.zeros((len(labels),n_features),dtype=np.float64)\n",
        "    prior=np.zeros((len(labels)),dtype=np.float64)\n",
        "\n",
        "    for i in range(len(labels)):\n",
        "        l=labels[i]\n",
        "        x_filter=x[y==l]\n",
        "        print(l)\n",
        "        #mean[l]=\n",
        "        mean[l,:]=np.mean(x_filter,axis=0)\n",
        "        var[l,:]=np.var(x_filter,axis=0)\n",
        "        prior[l]=(x_filter.shape[0]/x.shape[0])\n",
        "        #print(np.mean(x_filter,axis=0))\n",
        "    return mean,var,prior\n",
        "#print(mean)\n",
        "#print(var)\n",
        "#print(prior)\n",
        "\n",
        "def cond_prob(x,mean,var,feat,lab):\n",
        "    m=mean[lab][feat]\n",
        "    v=var[lab][feat]\n",
        "    num=np.exp(-1/2*((x[feat]-m)**2)/v)\n",
        "    den=np.sqrt(2*np.pi*v)\n",
        "\n",
        "    return num/den\n",
        "\n",
        "#k=12\n",
        "def predict(x_test,mean,var,prior,labels):\n",
        "    output=[]\n",
        "    for row in range(x_test.shape[0]):\n",
        "        out=np.zeros((len(labels)))\n",
        "        for i in range(len(labels)):\n",
        "            prob=prior[i]\n",
        "            for j in range(x.shape[1]):\n",
        "                prob*=cond_prob(x_test[row],mean,var,j,i)\n",
        "                #print('p',prob)\n",
        "            out[i]=prob\n",
        "            #print(prob)\n",
        "        output.append(out)\n",
        "    return np.array(output)"
      ],
      "execution_count": null,
      "outputs": []
    },
    {
      "cell_type": "code",
      "metadata": {
        "colab": {
          "base_uri": "https://localhost:8080/"
        },
        "id": "mkigCRqRQWSS",
        "outputId": "63098b8a-2caf-4533-c0c1-c8b9d0cdcdbd"
      },
      "source": [
        "mean,var,prior=gaussian_train(x_sc,y_train)\n",
        "print(mean)\n",
        "print(var)\n",
        "print(prior)"
      ],
      "execution_count": null,
      "outputs": [
        {
          "output_type": "stream",
          "text": [
            "0\n",
            "1\n",
            "2\n",
            "[[-0.0617486   0.15067725 -0.12144461 -0.13541125 -0.09621226]\n",
            " [ 0.0764377  -0.10848929  0.12749459  0.16296828  0.13542673]\n",
            " [-0.01434749 -0.04120685 -0.00590928 -0.02691617 -0.03830251]]\n",
            "[[0.79335646 1.24677714 0.96214053 0.89753909 1.05301124]\n",
            " [1.14264414 0.82595349 0.97315855 1.02424503 0.95575861]\n",
            " [1.05287413 0.89359092 1.03287868 1.03182163 0.96301161]]\n",
            "[0.33070866 0.33070866 0.33858268]\n"
          ],
          "name": "stdout"
        }
      ]
    },
    {
      "cell_type": "code",
      "metadata": {
        "colab": {
          "base_uri": "https://localhost:8080/"
        },
        "id": "62rOVFddVdYn",
        "outputId": "b4b2e8cb-d2fe-4b1f-c838-e12f97bc89bc"
      },
      "source": [
        "y_pred=predict(x_test_sc,mean,var,prior,labels)\n",
        "pred=np.argmax(y_pred,axis=1)\n",
        "print('Accuracy',end=' ')\n",
        "np.sum(pred==y_test)/y_test.shape[0]"
      ],
      "execution_count": null,
      "outputs": [
        {
          "output_type": "stream",
          "text": [
            "Accuracy "
          ],
          "name": "stdout"
        },
        {
          "output_type": "execute_result",
          "data": {
            "text/plain": [
              "0.391304347826087"
            ]
          },
          "metadata": {
            "tags": []
          },
          "execution_count": 112
        }
      ]
    },
    {
      "cell_type": "code",
      "metadata": {
        "colab": {
          "base_uri": "https://localhost:8080/"
        },
        "id": "LUXaNmCyS-4t",
        "outputId": "0469afaa-2030-4e0e-a71a-a813ef267a02"
      },
      "source": [
        "y_pred=predict(x_sc,mean,var,prior,labels)\n",
        "pred=np.argmax(y_pred,axis=1)\n",
        "print('Accuracy',end=' ')\n",
        "np.sum(pred==y_train)/y_train.shape[0]"
      ],
      "execution_count": null,
      "outputs": [
        {
          "output_type": "stream",
          "text": [
            "Accuracy "
          ],
          "name": "stdout"
        },
        {
          "output_type": "execute_result",
          "data": {
            "text/plain": [
              "0.3700787401574803"
            ]
          },
          "metadata": {
            "tags": []
          },
          "execution_count": 113
        }
      ]
    },
    {
      "cell_type": "markdown",
      "metadata": {
        "id": "fDJ-Oby91JPR"
      },
      "source": [
        "#Q2: (ii) In-built function"
      ]
    },
    {
      "cell_type": "code",
      "metadata": {
        "colab": {
          "base_uri": "https://localhost:8080/"
        },
        "id": "pQiJwgDAfMkx",
        "outputId": "7790dba7-83b5-45e3-a581-ca4bdd9ca12d"
      },
      "source": [
        "from sklearn.naive_bayes import GaussianNB\n",
        "gnb=GaussianNB()\n",
        "gnb.fit(x_sc,y_train)\n",
        "print(\"Accuracy\",gnb.score(x_test_sc,y_test))"
      ],
      "execution_count": null,
      "outputs": [
        {
          "output_type": "stream",
          "text": [
            "Accuracy 0.4782608695652174\n"
          ],
          "name": "stdout"
        }
      ]
    },
    {
      "cell_type": "markdown",
      "metadata": {
        "id": "CzUvVvm7gsLa"
      },
      "source": [
        "#Q3: (GridSearchCV for KNN) Explore about GridSearchCV toot in scikit-learn. This is a tool that is often used for tuning hyperparameters of machine learning models. Use this tool to find the best value of K for K-NN Classifier using any dataset"
      ]
    },
    {
      "cell_type": "code",
      "metadata": {
        "colab": {
          "base_uri": "https://localhost:8080/"
        },
        "id": "A5bni_DNf9at",
        "outputId": "f3f50ce0-9786-4f0f-8be7-3626cd78b21b"
      },
      "source": [
        "from sklearn.datasets import load_iris\n",
        "data=load_iris()\n",
        "x=data['data']\n",
        "y=data['target']\n",
        "print(x.shape,y.shape)"
      ],
      "execution_count": null,
      "outputs": [
        {
          "output_type": "stream",
          "text": [
            "(150, 4) (150,)\n"
          ],
          "name": "stdout"
        }
      ]
    },
    {
      "cell_type": "code",
      "metadata": {
        "colab": {
          "base_uri": "https://localhost:8080/"
        },
        "id": "8z4CNUjLg1yl",
        "outputId": "1dce2b84-0196-4ae5-e2e9-a7e55e0f419b"
      },
      "source": [
        "labels=list(np.unique(y))\n",
        "print(labels)\n",
        "output=data['target_names']\n",
        "output"
      ],
      "execution_count": null,
      "outputs": [
        {
          "output_type": "stream",
          "text": [
            "[0, 1, 2]\n"
          ],
          "name": "stdout"
        },
        {
          "output_type": "execute_result",
          "data": {
            "text/plain": [
              "array(['setosa', 'versicolor', 'virginica'], dtype='<U10')"
            ]
          },
          "metadata": {
            "tags": []
          },
          "execution_count": 117
        }
      ]
    },
    {
      "cell_type": "code",
      "metadata": {
        "colab": {
          "base_uri": "https://localhost:8080/"
        },
        "id": "mELoyMpkg4S6",
        "outputId": "126aa5d3-0acc-47f0-a29e-2ca124b237cd"
      },
      "source": [
        "import random\n",
        "x_comb=np.hstack((x,y.reshape(-1,1)))\n",
        "np.random.shuffle(x_comb)\n",
        "x_comb"
      ],
      "execution_count": null,
      "outputs": [
        {
          "output_type": "execute_result",
          "data": {
            "text/plain": [
              "array([[4.7, 3.2, 1.3, 0.2, 0. ],\n",
              "       [5.8, 2.6, 4. , 1.2, 1. ],\n",
              "       [6.7, 3.1, 4.7, 1.5, 1. ],\n",
              "       [5.6, 2.8, 4.9, 2. , 2. ],\n",
              "       [5. , 3.2, 1.2, 0.2, 0. ],\n",
              "       [4.8, 3.4, 1.9, 0.2, 0. ],\n",
              "       [6.3, 3.4, 5.6, 2.4, 2. ],\n",
              "       [5.5, 2.4, 3.7, 1. , 1. ],\n",
              "       [6.7, 3.3, 5.7, 2.5, 2. ],\n",
              "       [6. , 3.4, 4.5, 1.6, 1. ],\n",
              "       [6.3, 2.5, 4.9, 1.5, 1. ],\n",
              "       [6. , 3. , 4.8, 1.8, 2. ],\n",
              "       [6.9, 3.1, 4.9, 1.5, 1. ],\n",
              "       [7.7, 3. , 6.1, 2.3, 2. ],\n",
              "       [6.3, 3.3, 4.7, 1.6, 1. ],\n",
              "       [6.1, 3. , 4.6, 1.4, 1. ],\n",
              "       [6.6, 2.9, 4.6, 1.3, 1. ],\n",
              "       [6.9, 3.2, 5.7, 2.3, 2. ],\n",
              "       [5.7, 3. , 4.2, 1.2, 1. ],\n",
              "       [5.8, 2.7, 5.1, 1.9, 2. ],\n",
              "       [6.5, 2.8, 4.6, 1.5, 1. ],\n",
              "       [6.3, 2.9, 5.6, 1.8, 2. ],\n",
              "       [4.7, 3.2, 1.6, 0.2, 0. ],\n",
              "       [5.1, 3.8, 1.9, 0.4, 0. ],\n",
              "       [5.4, 3. , 4.5, 1.5, 1. ],\n",
              "       [5.4, 3.9, 1.7, 0.4, 0. ],\n",
              "       [4.9, 2.4, 3.3, 1. , 1. ],\n",
              "       [4.9, 3.6, 1.4, 0.1, 0. ],\n",
              "       [5.6, 2.7, 4.2, 1.3, 1. ],\n",
              "       [6.3, 3.3, 6. , 2.5, 2. ],\n",
              "       [5.1, 3.8, 1.6, 0.2, 0. ],\n",
              "       [6.9, 3.1, 5.4, 2.1, 2. ],\n",
              "       [5.1, 2.5, 3. , 1.1, 1. ],\n",
              "       [5.2, 2.7, 3.9, 1.4, 1. ],\n",
              "       [7.7, 3.8, 6.7, 2.2, 2. ],\n",
              "       [4.8, 3.4, 1.6, 0.2, 0. ],\n",
              "       [4.8, 3. , 1.4, 0.3, 0. ],\n",
              "       [7.1, 3. , 5.9, 2.1, 2. ],\n",
              "       [5. , 3.5, 1.6, 0.6, 0. ],\n",
              "       [5.8, 2.7, 4.1, 1. , 1. ],\n",
              "       [5.8, 2.8, 5.1, 2.4, 2. ],\n",
              "       [5.5, 2.5, 4. , 1.3, 1. ],\n",
              "       [6. , 2.2, 4. , 1. , 1. ],\n",
              "       [4.6, 3.1, 1.5, 0.2, 0. ],\n",
              "       [6.1, 2.8, 4.7, 1.2, 1. ],\n",
              "       [6.3, 2.3, 4.4, 1.3, 1. ],\n",
              "       [5.1, 3.8, 1.5, 0.3, 0. ],\n",
              "       [6. , 2.7, 5.1, 1.6, 1. ],\n",
              "       [4.4, 3.2, 1.3, 0.2, 0. ],\n",
              "       [6.4, 2.9, 4.3, 1.3, 1. ],\n",
              "       [5.5, 2.3, 4. , 1.3, 1. ],\n",
              "       [4.9, 3.1, 1.5, 0.2, 0. ],\n",
              "       [5.2, 4.1, 1.5, 0.1, 0. ],\n",
              "       [5.7, 2.9, 4.2, 1.3, 1. ],\n",
              "       [6.4, 2.8, 5.6, 2.1, 2. ],\n",
              "       [5.4, 3.4, 1.5, 0.4, 0. ],\n",
              "       [6.5, 3. , 5.2, 2. , 2. ],\n",
              "       [4.9, 2.5, 4.5, 1.7, 2. ],\n",
              "       [5. , 3.6, 1.4, 0.2, 0. ],\n",
              "       [7.4, 2.8, 6.1, 1.9, 2. ],\n",
              "       [5.7, 2.6, 3.5, 1. , 1. ],\n",
              "       [5.6, 2.9, 3.6, 1.3, 1. ],\n",
              "       [5.9, 3. , 5.1, 1.8, 2. ],\n",
              "       [5.2, 3.4, 1.4, 0.2, 0. ],\n",
              "       [6.4, 3.2, 5.3, 2.3, 2. ],\n",
              "       [4.9, 3.1, 1.5, 0.1, 0. ],\n",
              "       [5.4, 3.7, 1.5, 0.2, 0. ],\n",
              "       [6.7, 3.1, 5.6, 2.4, 2. ],\n",
              "       [5.7, 3.8, 1.7, 0.3, 0. ],\n",
              "       [6.5, 3.2, 5.1, 2. , 2. ],\n",
              "       [7.2, 3.2, 6. , 1.8, 2. ],\n",
              "       [6.4, 2.8, 5.6, 2.2, 2. ],\n",
              "       [6.8, 3.2, 5.9, 2.3, 2. ],\n",
              "       [6.3, 2.5, 5. , 1.9, 2. ],\n",
              "       [5. , 3.4, 1.6, 0.4, 0. ],\n",
              "       [4.4, 3. , 1.3, 0.2, 0. ],\n",
              "       [4.6, 3.4, 1.4, 0.3, 0. ],\n",
              "       [6.3, 2.8, 5.1, 1.5, 2. ],\n",
              "       [6.1, 2.9, 4.7, 1.4, 1. ],\n",
              "       [5. , 2. , 3.5, 1. , 1. ],\n",
              "       [6.9, 3.1, 5.1, 2.3, 2. ],\n",
              "       [4.5, 2.3, 1.3, 0.3, 0. ],\n",
              "       [5.6, 3. , 4.5, 1.5, 1. ],\n",
              "       [5.1, 3.4, 1.5, 0.2, 0. ],\n",
              "       [7.2, 3.6, 6.1, 2.5, 2. ],\n",
              "       [4.6, 3.6, 1. , 0.2, 0. ],\n",
              "       [6.4, 3.1, 5.5, 1.8, 2. ],\n",
              "       [4.8, 3. , 1.4, 0.1, 0. ],\n",
              "       [6.7, 3.3, 5.7, 2.1, 2. ],\n",
              "       [5.5, 3.5, 1.3, 0.2, 0. ],\n",
              "       [6.2, 2.2, 4.5, 1.5, 1. ],\n",
              "       [5.8, 2.7, 5.1, 1.9, 2. ],\n",
              "       [5. , 2.3, 3.3, 1. , 1. ],\n",
              "       [6.2, 3.4, 5.4, 2.3, 2. ],\n",
              "       [7.6, 3. , 6.6, 2.1, 2. ],\n",
              "       [5. , 3. , 1.6, 0.2, 0. ],\n",
              "       [7.3, 2.9, 6.3, 1.8, 2. ],\n",
              "       [6.6, 3. , 4.4, 1.4, 1. ],\n",
              "       [7.2, 3. , 5.8, 1.6, 2. ],\n",
              "       [5.7, 2.8, 4.5, 1.3, 1. ],\n",
              "       [5.1, 3.7, 1.5, 0.4, 0. ],\n",
              "       [6.3, 2.7, 4.9, 1.8, 2. ],\n",
              "       [5.7, 2.5, 5. , 2. , 2. ],\n",
              "       [6.2, 2.9, 4.3, 1.3, 1. ],\n",
              "       [7. , 3.2, 4.7, 1.4, 1. ],\n",
              "       [4.8, 3.1, 1.6, 0.2, 0. ],\n",
              "       [6.7, 3.1, 4.4, 1.4, 1. ],\n",
              "       [5.8, 2.7, 3.9, 1.2, 1. ],\n",
              "       [5.3, 3.7, 1.5, 0.2, 0. ],\n",
              "       [5.4, 3.4, 1.7, 0.2, 0. ],\n",
              "       [6.8, 3. , 5.5, 2.1, 2. ],\n",
              "       [6.5, 3. , 5.5, 1.8, 2. ],\n",
              "       [6.1, 3. , 4.9, 1.8, 2. ],\n",
              "       [5.6, 3. , 4.1, 1.3, 1. ],\n",
              "       [6. , 2.2, 5. , 1.5, 2. ],\n",
              "       [6.4, 2.7, 5.3, 1.9, 2. ],\n",
              "       [5.7, 4.4, 1.5, 0.4, 0. ],\n",
              "       [5.5, 2.6, 4.4, 1.2, 1. ],\n",
              "       [5. , 3.5, 1.3, 0.3, 0. ],\n",
              "       [5.9, 3. , 4.2, 1.5, 1. ],\n",
              "       [5. , 3.3, 1.4, 0.2, 0. ],\n",
              "       [5.5, 2.4, 3.8, 1.1, 1. ],\n",
              "       [5.1, 3.5, 1.4, 0.3, 0. ],\n",
              "       [6.8, 2.8, 4.8, 1.4, 1. ],\n",
              "       [5.8, 4. , 1.2, 0.2, 0. ],\n",
              "       [5.1, 3.3, 1.7, 0.5, 0. ],\n",
              "       [6.5, 3. , 5.8, 2.2, 2. ],\n",
              "       [7.7, 2.6, 6.9, 2.3, 2. ],\n",
              "       [6.2, 2.8, 4.8, 1.8, 2. ],\n",
              "       [6.7, 2.5, 5.8, 1.8, 2. ],\n",
              "       [5. , 3.4, 1.5, 0.2, 0. ],\n",
              "       [5.1, 3.5, 1.4, 0.2, 0. ],\n",
              "       [4.4, 2.9, 1.4, 0.2, 0. ],\n",
              "       [4.6, 3.2, 1.4, 0.2, 0. ],\n",
              "       [5.9, 3.2, 4.8, 1.8, 1. ],\n",
              "       [6. , 2.9, 4.5, 1.5, 1. ],\n",
              "       [5.7, 2.8, 4.1, 1.3, 1. ],\n",
              "       [4.9, 3. , 1.4, 0.2, 0. ],\n",
              "       [4.3, 3. , 1.1, 0.1, 0. ],\n",
              "       [5.4, 3.9, 1.3, 0.4, 0. ],\n",
              "       [7.7, 2.8, 6.7, 2. , 2. ],\n",
              "       [5.6, 2.5, 3.9, 1.1, 1. ],\n",
              "       [6.1, 2.6, 5.6, 1.4, 2. ],\n",
              "       [6.7, 3. , 5.2, 2.3, 2. ],\n",
              "       [6.7, 3. , 5. , 1.7, 1. ],\n",
              "       [5.5, 4.2, 1.4, 0.2, 0. ],\n",
              "       [6.1, 2.8, 4. , 1.3, 1. ],\n",
              "       [7.9, 3.8, 6.4, 2. , 2. ],\n",
              "       [5.2, 3.5, 1.5, 0.2, 0. ],\n",
              "       [6.4, 3.2, 4.5, 1.5, 1. ]])"
            ]
          },
          "metadata": {
            "tags": []
          },
          "execution_count": 118
        }
      ]
    },
    {
      "cell_type": "code",
      "metadata": {
        "colab": {
          "base_uri": "https://localhost:8080/"
        },
        "id": "zsTc4MFVg6zn",
        "outputId": "8c9d0c17-3675-47d9-9224-841b24d26019"
      },
      "source": [
        "from sklearn.model_selection import train_test_split\n",
        "x_train,x_test,y_train,y_test=train_test_split(x_comb,y,test_size=0.15)\n",
        "print(x_train.shape,y_train.shape)\n",
        "print(x_test.shape,y_test.shape)"
      ],
      "execution_count": null,
      "outputs": [
        {
          "output_type": "stream",
          "text": [
            "(127, 5) (127,)\n",
            "(23, 5) (23,)\n"
          ],
          "name": "stdout"
        }
      ]
    },
    {
      "cell_type": "code",
      "metadata": {
        "colab": {
          "base_uri": "https://localhost:8080/"
        },
        "id": "7XNDHctXg-BB",
        "outputId": "5ae7ad40-bdc7-4ca1-a634-2ab8cc146778"
      },
      "source": [
        "from sklearn.preprocessing import StandardScaler\n",
        "sc=StandardScaler()\n",
        "x_sc=sc.fit_transform(x_train)\n",
        "x_test_sc=sc.transform(x_test)\n",
        "print(x_sc.shape,x_test_sc.shape)\n",
        "#x_test_sc"
      ],
      "execution_count": null,
      "outputs": [
        {
          "output_type": "stream",
          "text": [
            "(127, 5) (23, 5)\n"
          ],
          "name": "stdout"
        }
      ]
    },
    {
      "cell_type": "code",
      "metadata": {
        "colab": {
          "base_uri": "https://localhost:8080/"
        },
        "id": "_auOtb-9hAb8",
        "outputId": "6011551f-6f31-4bb8-e697-25dd12e3ba14"
      },
      "source": [
        "def distance(x1,p):\n",
        "    return np.sqrt(sum((x1-p)**2))\n",
        "\n",
        "def knn(x_train,y_train,point,k=5):\n",
        "    val=[]\n",
        "    m=x_train.shape[0]\n",
        "\n",
        "    for i in range(m):\n",
        "        d=distance(x_train[i],point)\n",
        "        val.append([d,y_train[i]])\n",
        "    #print(val)\n",
        "    #print('')\n",
        "    val=sorted(val)\n",
        "    #print(val[:k])\n",
        "\n",
        "    return np.array(val[:k])\n",
        "v=knn(x_train,y_train,x_test[0])\n",
        "v"
      ],
      "execution_count": null,
      "outputs": [
        {
          "output_type": "execute_result",
          "data": {
            "text/plain": [
              "array([[0.38729833, 0.        ],\n",
              "       [0.43588989, 1.        ],\n",
              "       [0.46904158, 1.        ],\n",
              "       [0.64807407, 1.        ],\n",
              "       [0.65574385, 0.        ]])"
            ]
          },
          "metadata": {
            "tags": []
          },
          "execution_count": 150
        }
      ]
    },
    {
      "cell_type": "code",
      "metadata": {
        "colab": {
          "base_uri": "https://localhost:8080/"
        },
        "id": "LO3vACBmrqQT",
        "outputId": "18be950c-28f0-468f-cd26-c515a30c8b67"
      },
      "source": [
        "va,c=np.unique(v[:,1],return_counts=True)\n",
        "print(va,c)\n",
        "va[np.argmax(c)]\n",
        "y_pred=[]\n",
        "for row in range(x_test_sc.shape[0]):\n",
        "    dis=knn(x_sc,y_train,x_test_sc[row],k=5)\n",
        "    va,c=np.unique(dis[:,1],return_counts=True)\n",
        "    y_pred.append(va[np.argmax(c)])\n",
        "print(y_pred)\n",
        "print('accuracy',end=' ')\n",
        "np.sum(y_test==y_pred)/y_test.shape[0]"
      ],
      "execution_count": null,
      "outputs": [
        {
          "output_type": "stream",
          "text": [
            "[0. 1.] [2 3]\n",
            "[0.0, 0.0, 1.0, 0.0, 0.0, 2.0, 0.0, 2.0, 0.0, 1.0, 0.0, 1.0, 1.0, 0.0, 0.0, 0.0, 2.0, 1.0, 1.0, 0.0, 0.0, 1.0, 0.0]\n",
            "accuracy "
          ],
          "name": "stdout"
        },
        {
          "output_type": "execute_result",
          "data": {
            "text/plain": [
              "0.34782608695652173"
            ]
          },
          "metadata": {
            "tags": []
          },
          "execution_count": 175
        }
      ]
    },
    {
      "cell_type": "code",
      "metadata": {
        "colab": {
          "base_uri": "https://localhost:8080/"
        },
        "id": "5-UY9ZQbtpkp",
        "outputId": "449a7674-e59a-4e02-8fde-c34aa0d2fac0"
      },
      "source": [
        "from sklearn.metrics import confusion_matrix, accuracy_score\n",
        "from sklearn.neighbors import KNeighborsClassifier\n",
        "kn = KNeighborsClassifier()\n",
        "kn.fit(x_sc, y_train)\n",
        "kn.score(x_test_sc,y_test)\n",
        "#y_pred = classifier.predict(X_test)\n",
        "#cm = confusion_matrix(y_test, y_pred)\n",
        "#print(cm)\n",
        "#accuracy_score(y_test, y_pred)"
      ],
      "execution_count": null,
      "outputs": [
        {
          "output_type": "execute_result",
          "data": {
            "text/plain": [
              "0.34782608695652173"
            ]
          },
          "metadata": {
            "tags": []
          },
          "execution_count": 176
        }
      ]
    },
    {
      "cell_type": "code",
      "metadata": {
        "colab": {
          "base_uri": "https://localhost:8080/"
        },
        "id": "tUBsm-OzxuqQ",
        "outputId": "dfb402c2-bd99-4531-b23f-f7721cb1e9a1"
      },
      "source": [
        "from sklearn.model_selection import GridSearchCV\n",
        "param={'n_neighbors':[5,6,7,8,9,10,11,12,13,14,15],\n",
        "       'weights':['uniform','distance'],\n",
        "       'metric':['euclidean','manhattan']}\n",
        "grid_search = GridSearchCV(estimator = kn,\n",
        "                           param_grid = param,\n",
        "                           scoring = 'accuracy',\n",
        "                           cv = 10,\n",
        "                           n_jobs = -1)\n",
        "grid_search.fit(x_sc, y_train)\n",
        "best_accuracy = grid_search.best_score_\n",
        "best_parameters = grid_search.best_params_\n",
        "print(best_accuracy)\n",
        "print(best_parameters)"
      ],
      "execution_count": null,
      "outputs": [
        {
          "output_type": "stream",
          "text": [
            "0.3467948717948718\n",
            "{'metric': 'euclidean', 'n_neighbors': 12, 'weights': 'uniform'}\n"
          ],
          "name": "stdout"
        }
      ]
    },
    {
      "cell_type": "code",
      "metadata": {
        "id": "dU2r1wyyyT3P"
      },
      "source": [
        ""
      ],
      "execution_count": null,
      "outputs": []
    }
  ]
}