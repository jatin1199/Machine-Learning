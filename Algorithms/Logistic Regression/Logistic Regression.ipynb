{
  "nbformat": 4,
  "nbformat_minor": 0,
  "metadata": {
    "colab": {
      "name": "101803566 Jatin Jindal Assignment6 .ipynb",
      "provenance": [],
      "collapsed_sections": []
    },
    "kernelspec": {
      "name": "python3",
      "display_name": "Python 3"
    },
    "language_info": {
      "name": "python"
    }
  },
  "cells": [
    {
      "cell_type": "markdown",
      "metadata": {
        "id": "tPNCJaKcZ-ET"
      },
      "source": [
        "#Q1: Multiclass Logistic Regression Implement Multiclass Logistic Regression (step-by-step) on Iris dataset using one vs. rest strategy?"
      ]
    },
    {
      "cell_type": "code",
      "metadata": {
        "id": "qeXsD6c7n42v"
      },
      "source": [
        "import pandas as pd\n",
        "import matplotlib.pyplot as plt\n",
        "import numpy as np"
      ],
      "execution_count": null,
      "outputs": []
    },
    {
      "cell_type": "code",
      "metadata": {
        "colab": {
          "base_uri": "https://localhost:8080/"
        },
        "id": "TSnRnrEBomib",
        "outputId": "e6d69695-0995-432a-acc1-12fd0fa3a972"
      },
      "source": [
        "from sklearn.datasets import load_iris\n",
        "iris=load_iris()\n",
        "x=iris['data']\n",
        "y=iris['target']\n",
        "print(x.shape,y.shape)"
      ],
      "execution_count": null,
      "outputs": [
        {
          "output_type": "stream",
          "text": [
            "(150, 4) (150,)\n"
          ],
          "name": "stdout"
        }
      ]
    },
    {
      "cell_type": "code",
      "metadata": {
        "colab": {
          "base_uri": "https://localhost:8080/"
        },
        "id": "sNhRW3WDMfKs",
        "outputId": "c0d9c264-034a-4aad-e8f1-f91cbb1a6a03"
      },
      "source": [
        "import random\n",
        "comb=np.hstack((x,y.reshape(-1,1)))\n",
        "np.random.shuffle(comb)\n",
        "x=comb[:,:-1]\n",
        "y=comb[:,-1]\n",
        "print(x.shape,y.shape)"
      ],
      "execution_count": null,
      "outputs": [
        {
          "output_type": "stream",
          "text": [
            "(150, 4) (150,)\n"
          ],
          "name": "stdout"
        }
      ]
    },
    {
      "cell_type": "code",
      "metadata": {
        "id": "aaQ6xAsQovoy"
      },
      "source": [
        "import random\n",
        "from sklearn import metrics\n",
        "\n",
        "def sigmoid(z):\n",
        "    return 1.0/(1+np.exp(-z))\n",
        "\n",
        "\n",
        "def predict(x,beta):\n",
        "    val= np.dot(x,beta)\n",
        "    return sigmoid(val)\n",
        "\n",
        "def error(x,y,beta):\n",
        "    y_=predict(x,beta)\n",
        "\n",
        "    return np.mean(y*np.log(y_)+(1-y)*np.log(1-y_))\n",
        "\n",
        "    \n",
        "def sigmoid_fit(x,y,learning_rate=0.01,max_iters=500):\n",
        "    m,n=x.shape\n",
        "    #print(m,n)\n",
        "    beta=np.zeros(n)\n",
        "    loss=[]\n",
        "    for i in range(max_iters):\n",
        "        y_=predict(x,beta)\n",
        "        loss.append(np.sum((y_-y)**2)/m)\n",
        "        grad=np.dot(x.T,(y_-y))\n",
        "        grad=grad/m\n",
        "\n",
        "        beta=beta-learning_rate*grad\n",
        "\n",
        "    return beta,loss"
      ],
      "execution_count": null,
      "outputs": []
    },
    {
      "cell_type": "code",
      "metadata": {
        "id": "7NnP7MjtR0FZ"
      },
      "source": [
        "from sklearn.preprocessing import StandardScaler\n",
        "sc=StandardScaler()\n",
        "x_sc=sc.fit_transform(x)"
      ],
      "execution_count": null,
      "outputs": []
    },
    {
      "cell_type": "code",
      "metadata": {
        "colab": {
          "base_uri": "https://localhost:8080/"
        },
        "id": "t5JsMNWaGwqR",
        "outputId": "56790ba3-78ce-42ef-f28d-48841d30eda1"
      },
      "source": [
        "one=np.ones((x.shape[0],1))\n",
        "x_=np.hstack((one,x_sc))\n",
        "x_.shape"
      ],
      "execution_count": null,
      "outputs": [
        {
          "output_type": "execute_result",
          "data": {
            "text/plain": [
              "(150, 5)"
            ]
          },
          "metadata": {
            "tags": []
          },
          "execution_count": 6
        }
      ]
    },
    {
      "cell_type": "code",
      "metadata": {
        "colab": {
          "base_uri": "https://localhost:8080/"
        },
        "id": "uWlTkcuyLb5Q",
        "outputId": "daed9564-9b48-4068-ce5d-59eca1247ad9"
      },
      "source": [
        "from sklearn.model_selection import train_test_split\n",
        "x_train,x_test,y_train,y_test=train_test_split(x_,y,test_size=0.15)\n",
        "print(x_train.shape,x_test.shape,y_train.shape,y_test.shape)"
      ],
      "execution_count": null,
      "outputs": [
        {
          "output_type": "stream",
          "text": [
            "(127, 5) (23, 5) (127,) (23,)\n"
          ],
          "name": "stdout"
        }
      ]
    },
    {
      "cell_type": "code",
      "metadata": {
        "colab": {
          "base_uri": "https://localhost:8080/",
          "height": 529
        },
        "id": "uGXNqDY0G6pi",
        "outputId": "26f4d588-e675-4021-cc9b-72b71413ef72"
      },
      "source": [
        "from sklearn.metrics import confusion_matrix\n",
        "labels=list(np.unique(y))\n",
        "betas=[]\n",
        "for i in labels:\n",
        "    print(i)\n",
        "    y_tr=np.zeros(y_train.shape)\n",
        "    y_te=np.zeros(y_test.shape)\n",
        "    y_tr[y_train==i]=1\n",
        "    y_te[y_test==i]=1\n",
        "\n",
        "    b,l=sigmoid_fit(x_train,y_tr,learning_rate=0.5,max_iters=1000)\n",
        "\n",
        "    betas.append(b)\n",
        "    # test\n",
        "    y_pred=predict(x_test,b)\n",
        "    #print(y_pred)\n",
        "    y_pred[y_pred>0.5]=1\n",
        "    y_pred[y_pred<0.5]=0\n",
        "    print(confusion_matrix(y_te,y_pred))\n",
        "\n",
        "    # train\n",
        "    y_pred=predict(x_train,b)\n",
        "    y_pred[y_pred>0.5]=1\n",
        "    y_pred[y_pred<0.5]=0\n",
        "    print(confusion_matrix(y_tr,y_pred))\n",
        "\n",
        "    plt.plot(l)"
      ],
      "execution_count": null,
      "outputs": [
        {
          "output_type": "stream",
          "text": [
            "0.0\n",
            "[[15  0]\n",
            " [ 0  8]]\n",
            "[[85  0]\n",
            " [ 0 42]]\n",
            "1.0\n",
            "[[12  1]\n",
            " [ 4  6]]\n",
            "[[76 11]\n",
            " [23 17]]\n",
            "2.0\n",
            "[[18  0]\n",
            " [ 0  5]]\n",
            "[[79  3]\n",
            " [ 1 44]]\n"
          ],
          "name": "stdout"
        },
        {
          "output_type": "display_data",
          "data": {
            "image/png": "[encoded data removed]",
            "text/plain": [
              "<Figure size 432x288 with 1 Axes>"
            ]
          },
          "metadata": {
            "tags": [],
            "needs_background": "light"
          }
        }
      ]
    },
    {
      "cell_type": "code",
      "metadata": {
        "colab": {
          "base_uri": "https://localhost:8080/"
        },
        "id": "Z2ZRLdRWPLod",
        "outputId": "f4b773be-1a5f-49fe-cb97-fa5c44166a37"
      },
      "source": [
        "def prediction(x,beta):\n",
        "    y_pred=[]\n",
        "    for i in range(len(beta)):\n",
        "        #print(i)\n",
        "        b=beta[i]\n",
        "        #print(type(b))\n",
        "        #x_t=np.zeros(x.shape[0])\n",
        "        #x_t[x_test==i]=1\n",
        "        y_p=predict(x,b)\n",
        "        #print(y_p)\n",
        "        y_pred.append(y_p)\n",
        "    return np.argmax(y_pred,axis=0)\n",
        "#print(y_pred)\n",
        "prediction(x_test,betas)"
      ],
      "execution_count": null,
      "outputs": [
        {
          "output_type": "execute_result",
          "data": {
            "text/plain": [
              "array([0, 2, 1, 0, 0, 0, 0, 2, 1, 2, 1, 1, 0, 1, 0, 0, 2, 1, 1, 2, 1, 1,\n",
              "       1])"
            ]
          },
          "metadata": {
            "tags": []
          },
          "execution_count": 9
        }
      ]
    },
    {
      "cell_type": "code",
      "metadata": {
        "colab": {
          "base_uri": "https://localhost:8080/"
        },
        "id": "miMV14e9W4xl",
        "outputId": "4cfdd843-6bed-4eb7-e16e-47918398e146"
      },
      "source": [
        "y_test"
      ],
      "execution_count": null,
      "outputs": [
        {
          "output_type": "execute_result",
          "data": {
            "text/plain": [
              "array([0., 2., 1., 0., 0., 0., 0., 2., 1., 2., 1., 1., 0., 1., 0., 0., 2.,\n",
              "       1., 1., 2., 1., 1., 1.])"
            ]
          },
          "metadata": {
            "tags": []
          },
          "execution_count": 10
        }
      ]
    },
    {
      "cell_type": "markdown",
      "metadata": {
        "id": "tOZQMuTOf8D-"
      },
      "source": [
        "#Q2: The dataset labels that whether or not the student will get admission on the basis of the two exam scores. The plot of the data against exam1 and exam2"
      ]
    },
    {
      "cell_type": "code",
      "metadata": {
        "colab": {
          "base_uri": "https://localhost:8080/",
          "height": 402
        },
        "id": "nQTDNBKiRtuM",
        "outputId": "a2fd23fe-70aa-4cd1-b596-c2bd40e524c8"
      },
      "source": [
        "df=pd.read_csv(\"/content/drive/MyDrive/Colab Notebooks/ML/Assignment 6/exam.csv\",header=None)\n",
        "df"
      ],
      "execution_count": null,
      "outputs": [
        {
          "output_type": "execute_result",
          "data": {
            "text/html": [
              "<div>\n",
              "<style scoped>\n",
              "    .dataframe tbody tr th:only-of-type {\n",
              "        vertical-align: middle;\n",
              "    }\n",
              "\n",
              "    .dataframe tbody tr th {\n",
              "        vertical-align: top;\n",
              "    }\n",
              "\n",
              "    .dataframe thead th {\n",
              "        text-align: right;\n",
              "    }\n",
              "</style>\n",
              "<table border=\"1\" class=\"dataframe\">\n",
              "  <thead>\n",
              "    <tr style=\"text-align: right;\">\n",
              "      <th></th>\n",
              "      <th>0</th>\n",
              "      <th>1</th>\n",
              "      <th>2</th>\n",
              "    </tr>\n",
              "  </thead>\n",
              "  <tbody>\n",
              "    <tr>\n",
              "      <th>0</th>\n",
              "      <td>0.051267</td>\n",
              "      <td>0.699560</td>\n",
              "      <td>1</td>\n",
              "    </tr>\n",
              "    <tr>\n",
              "      <th>1</th>\n",
              "      <td>-0.092742</td>\n",
              "      <td>0.684940</td>\n",
              "      <td>1</td>\n",
              "    </tr>\n",
              "    <tr>\n",
              "      <th>2</th>\n",
              "      <td>-0.213710</td>\n",
              "      <td>0.692250</td>\n",
              "      <td>1</td>\n",
              "    </tr>\n",
              "    <tr>\n",
              "      <th>3</th>\n",
              "      <td>-0.375000</td>\n",
              "      <td>0.502190</td>\n",
              "      <td>1</td>\n",
              "    </tr>\n",
              "    <tr>\n",
              "      <th>4</th>\n",
              "      <td>-0.513250</td>\n",
              "      <td>0.465640</td>\n",
              "      <td>1</td>\n",
              "    </tr>\n",
              "    <tr>\n",
              "      <th>...</th>\n",
              "      <td>...</td>\n",
              "      <td>...</td>\n",
              "      <td>...</td>\n",
              "    </tr>\n",
              "    <tr>\n",
              "      <th>113</th>\n",
              "      <td>-0.720620</td>\n",
              "      <td>0.538740</td>\n",
              "      <td>0</td>\n",
              "    </tr>\n",
              "    <tr>\n",
              "      <th>114</th>\n",
              "      <td>-0.593890</td>\n",
              "      <td>0.494880</td>\n",
              "      <td>0</td>\n",
              "    </tr>\n",
              "    <tr>\n",
              "      <th>115</th>\n",
              "      <td>-0.484450</td>\n",
              "      <td>0.999270</td>\n",
              "      <td>0</td>\n",
              "    </tr>\n",
              "    <tr>\n",
              "      <th>116</th>\n",
              "      <td>-0.006336</td>\n",
              "      <td>0.999270</td>\n",
              "      <td>0</td>\n",
              "    </tr>\n",
              "    <tr>\n",
              "      <th>117</th>\n",
              "      <td>0.632650</td>\n",
              "      <td>-0.030612</td>\n",
              "      <td>0</td>\n",
              "    </tr>\n",
              "  </tbody>\n",
              "</table>\n",
              "<p>118 rows × 3 columns</p>\n",
              "</div>"
            ],
            "text/plain": [
              "            0         1  2\n",
              "0    0.051267  0.699560  1\n",
              "1   -0.092742  0.684940  1\n",
              "2   -0.213710  0.692250  1\n",
              "3   -0.375000  0.502190  1\n",
              "4   -0.513250  0.465640  1\n",
              "..        ...       ... ..\n",
              "113 -0.720620  0.538740  0\n",
              "114 -0.593890  0.494880  0\n",
              "115 -0.484450  0.999270  0\n",
              "116 -0.006336  0.999270  0\n",
              "117  0.632650 -0.030612  0\n",
              "\n",
              "[118 rows x 3 columns]"
            ]
          },
          "metadata": {
            "tags": []
          },
          "execution_count": 11
        }
      ]
    },
    {
      "cell_type": "code",
      "metadata": {
        "colab": {
          "base_uri": "https://localhost:8080/",
          "height": 282
        },
        "id": "j6EDbf40eQsA",
        "outputId": "62346801-1a4b-44c8-f3e8-ee9a31b45d2b"
      },
      "source": [
        "plt.scatter(df.iloc[:,0].values,df.iloc[:,1].values,c=df.iloc[:,-1].values)"
      ],
      "execution_count": null,
      "outputs": [
        {
          "output_type": "execute_result",
          "data": {
            "text/plain": [
              "<matplotlib.collections.PathCollection at 0x7f2550385b50>"
            ]
          },
          "metadata": {
            "tags": []
          },
          "execution_count": 12
        },
        {
          "output_type": "display_data",
          "data": {
            "image/png": "[encoded data removed]",
            "text/plain": [
              "<Figure size 432x288 with 1 Axes>"
            ]
          },
          "metadata": {
            "tags": [],
            "needs_background": "light"
          }
        }
      ]
    },
    {
      "cell_type": "code",
      "metadata": {
        "colab": {
          "base_uri": "https://localhost:8080/"
        },
        "id": "beZhnWLAUvfC",
        "outputId": "b2d11360-d38c-44f6-9b69-04f2b6f6add5"
      },
      "source": [
        "x=df.iloc[:,:-1].values\n",
        "y=df.iloc[:,-1].values\n",
        "print(x.shape,y.shape)"
      ],
      "execution_count": null,
      "outputs": [
        {
          "output_type": "stream",
          "text": [
            "(118, 2) (118,)\n"
          ],
          "name": "stdout"
        }
      ]
    },
    {
      "cell_type": "code",
      "metadata": {
        "id": "Mzqd4a7rg6T6",
        "colab": {
          "base_uri": "https://localhost:8080/"
        },
        "outputId": "0c561c4a-c5f4-4e5f-b6b3-e35cddb1714f"
      },
      "source": [
        "from sklearn.preprocessing import PolynomialFeatures\n",
        "poly=PolynomialFeatures(degree=6) # to specify the max degree we want to take of polynomial model\n",
        "x_poly=poly.fit_transform(x)\n",
        "x_poly.shape"
      ],
      "execution_count": null,
      "outputs": [
        {
          "output_type": "execute_result",
          "data": {
            "text/plain": [
              "(118, 28)"
            ]
          },
          "metadata": {
            "tags": []
          },
          "execution_count": 24
        }
      ]
    },
    {
      "cell_type": "code",
      "metadata": {
        "colab": {
          "base_uri": "https://localhost:8080/"
        },
        "id": "vpB8KBpkXUTt",
        "outputId": "38c132b8-7230-4562-92a9-b35ab632fffc"
      },
      "source": [
        "from sklearn.preprocessing import StandardScaler\n",
        "sc=StandardScaler()\n",
        "x_sc=sc.fit_transform(x_poly)\n",
        "x_sc.shape"
      ],
      "execution_count": null,
      "outputs": [
        {
          "output_type": "execute_result",
          "data": {
            "text/plain": [
              "(118, 28)"
            ]
          },
          "metadata": {
            "tags": []
          },
          "execution_count": 26
        }
      ]
    },
    {
      "cell_type": "code",
      "metadata": {
        "colab": {
          "base_uri": "https://localhost:8080/"
        },
        "id": "mZCzegYqUHd5",
        "outputId": "12f20f93-84b3-428b-9b38-c9ee89c24f06"
      },
      "source": [
        "one=np.ones((x_sc.shape[0],1))\n",
        "x_=np.hstack((x_sc,one))\n",
        "x_.shape"
      ],
      "execution_count": null,
      "outputs": [
        {
          "output_type": "execute_result",
          "data": {
            "text/plain": [
              "(118, 29)"
            ]
          },
          "metadata": {
            "tags": []
          },
          "execution_count": 27
        }
      ]
    },
    {
      "cell_type": "code",
      "metadata": {
        "colab": {
          "base_uri": "https://localhost:8080/"
        },
        "id": "9d0Ecm16XE6z",
        "outputId": "365fd0e0-11ad-4b42-d83b-3123c71bbd2a"
      },
      "source": [
        "from sklearn.model_selection import train_test_split\n",
        "x_train,x_test,y_train,y_test=train_test_split(x_,y,test_size=0.15)\n",
        "print(x_train.shape,x_test.shape,y_train.shape,y_test.shape)"
      ],
      "execution_count": null,
      "outputs": [
        {
          "output_type": "stream",
          "text": [
            "(100, 29) (18, 29) (100,) (18,)\n"
          ],
          "name": "stdout"
        }
      ]
    },
    {
      "cell_type": "markdown",
      "metadata": {
        "id": "C878KoFLaf1D"
      },
      "source": [
        "#Q2:(i) Step-by-Step Logistic Regression (with no regularization; alpha=10; number of iterations=1000)"
      ]
    },
    {
      "cell_type": "code",
      "metadata": {
        "colab": {
          "base_uri": "https://localhost:8080/",
          "height": 441
        },
        "id": "VbflnDXMXwjd",
        "outputId": "c99df441-817f-4d0f-9b8d-c33584dec790"
      },
      "source": [
        "from sklearn.metrics import confusion_matrix\n",
        "labels=list(np.unique(y))\n",
        "betas=[]\n",
        "for i in labels:\n",
        "    print(i)\n",
        "    y_tr=np.zeros(y_train.shape)\n",
        "    y_te=np.zeros(y_test.shape)\n",
        "    y_tr[y_train==i]=1\n",
        "    y_te[y_test==i]=1\n",
        "\n",
        "    b,l=sigmoid_fit(x_train,y_tr,learning_rate=0.5,max_iters=1000)\n",
        "\n",
        "    betas.append(b)\n",
        "    # test\n",
        "    y_pred=predict(x_test,b)\n",
        "    #print(y_pred)\n",
        "    y_pred[y_pred>0.5]=1\n",
        "    y_pred[y_pred<0.5]=0\n",
        "    print(confusion_matrix(y_te,y_pred))\n",
        "\n",
        "    # train\n",
        "    y_pred=predict(x_train,b)\n",
        "    y_pred[y_pred>0.5]=1\n",
        "    y_pred[y_pred<0.5]=0\n",
        "    print(confusion_matrix(y_tr,y_pred))\n",
        "\n",
        "    plt.plot(l)"
      ],
      "execution_count": null,
      "outputs": [
        {
          "output_type": "stream",
          "text": [
            "0\n",
            "[[7 3]\n",
            " [0 8]]\n",
            "[[42  6]\n",
            " [ 8 44]]\n",
            "1\n",
            "[[8 0]\n",
            " [3 7]]\n",
            "[[44  8]\n",
            " [ 6 42]]\n"
          ],
          "name": "stdout"
        },
        {
          "output_type": "display_data",
          "data": {
            "image/png": "[encoded data removed]",
            "text/plain": [
              "<Figure size 432x288 with 1 Axes>"
            ]
          },
          "metadata": {
            "tags": [],
            "needs_background": "light"
          }
        }
      ]
    },
    {
      "cell_type": "code",
      "metadata": {
        "colab": {
          "base_uri": "https://localhost:8080/"
        },
        "id": "PXOJVmieYeBy",
        "outputId": "fd34cfec-05d5-401f-aa21-82d1964ea0fa"
      },
      "source": [
        "prediction(x_test,betas)"
      ],
      "execution_count": null,
      "outputs": [
        {
          "output_type": "execute_result",
          "data": {
            "text/plain": [
              "array([1, 0, 0, 1, 0, 0, 0, 1, 0, 1, 1, 1, 0, 0, 0, 0, 0, 1])"
            ]
          },
          "metadata": {
            "tags": []
          },
          "execution_count": 33
        }
      ]
    },
    {
      "cell_type": "code",
      "metadata": {
        "colab": {
          "base_uri": "https://localhost:8080/"
        },
        "id": "0yJFQi3XYgVB",
        "outputId": "36354f4a-d4be-4fd5-f247-0dffe3c1468d"
      },
      "source": [
        "y_test"
      ],
      "execution_count": null,
      "outputs": [
        {
          "output_type": "execute_result",
          "data": {
            "text/plain": [
              "array([1, 0, 0, 1, 0, 0, 1, 1, 0, 1, 1, 1, 0, 1, 0, 0, 1, 1])"
            ]
          },
          "metadata": {
            "tags": []
          },
          "execution_count": 34
        }
      ]
    },
    {
      "cell_type": "markdown",
      "metadata": {
        "id": "8xYnTAURa4L8"
      },
      "source": [
        "#Q2: (ii) Step-by-Step Logistic Regression (with ridge regularization; alpha=10; number of iterations=1000; lambda=0.2)"
      ]
    },
    {
      "cell_type": "code",
      "metadata": {
        "id": "GCe_m7s8UGYS"
      },
      "source": [
        "def ridge_sigmoid_fit(x,y,alpha=0.2,learning_rate=0.01,max_iters=500):\n",
        "    m,n=x.shape\n",
        "    #print(m,n)\n",
        "    beta=np.zeros(n)\n",
        "    loss=[]\n",
        "    for i in range(max_iters):\n",
        "        y_=predict(x,beta)\n",
        "        loss.append(np.sum((y_-y)**2)/m)\n",
        "        grad=np.dot(x.T,(y_-y))+alpha*beta\n",
        "        grad=grad/m\n",
        "\n",
        "        beta=beta-learning_rate*grad\n",
        "\n",
        "    return beta,loss"
      ],
      "execution_count": null,
      "outputs": []
    },
    {
      "cell_type": "code",
      "metadata": {
        "colab": {
          "base_uri": "https://localhost:8080/",
          "height": 441
        },
        "id": "fogj4DaoX455",
        "outputId": "c75902e6-4ef6-43ec-8478-4d48bf73eca4"
      },
      "source": [
        "from sklearn.metrics import confusion_matrix\n",
        "labels=list(np.unique(y))\n",
        "betas=[]\n",
        "for i in labels:\n",
        "    print(i)\n",
        "    y_tr=np.zeros(y_train.shape)\n",
        "    y_te=np.zeros(y_test.shape)\n",
        "    y_tr[y_train==i]=1\n",
        "    y_te[y_test==i]=1\n",
        "\n",
        "    b,l=ridge_sigmoid_fit(x_train,y_tr,learning_rate=0.5,max_iters=1000)\n",
        "\n",
        "    betas.append(b)\n",
        "    # test\n",
        "    y_pred=predict(x_test,b)\n",
        "    #print(y_pred)\n",
        "    y_pred[y_pred>0.5]=1\n",
        "    y_pred[y_pred<0.5]=0\n",
        "    print(confusion_matrix(y_te,y_pred))\n",
        "\n",
        "    # train\n",
        "    y_pred=predict(x_train,b)\n",
        "    y_pred[y_pred>0.5]=1\n",
        "    y_pred[y_pred<0.5]=0\n",
        "    print(confusion_matrix(y_tr,y_pred))\n",
        "\n",
        "    plt.plot(l)"
      ],
      "execution_count": null,
      "outputs": [
        {
          "output_type": "stream",
          "text": [
            "0\n",
            "[[7 3]\n",
            " [0 8]]\n",
            "[[43  5]\n",
            " [ 9 43]]\n",
            "1\n",
            "[[8 0]\n",
            " [3 7]]\n",
            "[[43  9]\n",
            " [ 5 43]]\n"
          ],
          "name": "stdout"
        },
        {
          "output_type": "display_data",
          "data": {
            "image/png": "[encoded data removed]",
            "text/plain": [
              "<Figure size 432x288 with 1 Axes>"
            ]
          },
          "metadata": {
            "tags": [],
            "needs_background": "light"
          }
        }
      ]
    },
    {
      "cell_type": "code",
      "metadata": {
        "colab": {
          "base_uri": "https://localhost:8080/"
        },
        "id": "LLdimLV4YGgs",
        "outputId": "3680424d-eddd-4b0b-bf39-ef883a5ea31e"
      },
      "source": [
        "prediction(x_test,betas)"
      ],
      "execution_count": null,
      "outputs": [
        {
          "output_type": "execute_result",
          "data": {
            "text/plain": [
              "array([1, 0, 0, 1, 0, 0, 0, 1, 0, 1, 1, 1, 0, 0, 0, 0, 0, 1])"
            ]
          },
          "metadata": {
            "tags": []
          },
          "execution_count": 48
        }
      ]
    },
    {
      "cell_type": "code",
      "metadata": {
        "colab": {
          "base_uri": "https://localhost:8080/"
        },
        "id": "FniTTzIGYs9c",
        "outputId": "2537d922-a122-49c9-c249-c5231394cdd8"
      },
      "source": [
        "y_test"
      ],
      "execution_count": null,
      "outputs": [
        {
          "output_type": "execute_result",
          "data": {
            "text/plain": [
              "array([1, 0, 0, 1, 0, 0, 1, 1, 0, 1, 1, 1, 0, 1, 0, 0, 1, 1])"
            ]
          },
          "metadata": {
            "tags": []
          },
          "execution_count": 49
        }
      ]
    },
    {
      "cell_type": "code",
      "metadata": {
        "colab": {
          "base_uri": "https://localhost:8080/"
        },
        "id": "t16YLJP-YurU",
        "outputId": "0f7fcfa8-bd00-4d2a-ea64-8a8d10deddc1"
      },
      "source": [
        "betas"
      ],
      "execution_count": null,
      "outputs": [
        {
          "output_type": "execute_result",
          "data": {
            "text/plain": [
              "[array([ 0.        , -0.88219355, -1.97767861,  1.09795801,  1.42618805,\n",
              "         1.28048176, -0.38045239, -0.8471518 , -0.64868269, -0.25574433,\n",
              "         0.98789668,  0.09376669,  0.45850377,  0.50845101,  1.27664171,\n",
              "         0.24749946,  0.55132866, -1.84759218,  0.40950196,  1.00511388,\n",
              "         0.0048247 ,  1.0584627 ,  0.12525854,  0.56888511, -0.63522807,\n",
              "         0.92055837,  0.86334574,  0.71508216,  1.03613161]),\n",
              " array([ 0.        ,  0.88219355,  1.97767861, -1.09795801, -1.42618805,\n",
              "        -1.28048176,  0.38045239,  0.8471518 ,  0.64868269,  0.25574433,\n",
              "        -0.98789668, -0.09376669, -0.45850377, -0.50845101, -1.27664171,\n",
              "        -0.24749946, -0.55132866,  1.84759218, -0.40950196, -1.00511388,\n",
              "        -0.0048247 , -1.0584627 , -0.12525854, -0.56888511,  0.63522807,\n",
              "        -0.92055837, -0.86334574, -0.71508216, -1.03613161])]"
            ]
          },
          "metadata": {
            "tags": []
          },
          "execution_count": 50
        }
      ]
    }
  ]
}